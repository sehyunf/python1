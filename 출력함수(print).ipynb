{
  "nbformat": 4,
  "nbformat_minor": 0,
  "metadata": {
    "colab": {
      "provenance": []
    },
    "kernelspec": {
      "name": "python3",
      "display_name": "Python 3"
    },
    "language_info": {
      "name": "python"
    }
  },
  "cells": [
    {
      "cell_type": "code",
      "source": [
        "# Ctrl + Enter\n",
        "print(\"hello,World😺\")\n",
        "print(\"제 이름은 \\n박세현 입니다.\")\n",
        "print(100)"
      ],
      "metadata": {
        "colab": {
          "base_uri": "https://localhost:8080/"
        },
        "id": "ifUQD4UnFaMn",
        "outputId": "5cd5067b-e179-4c74-f4e5-439f1e96f24d"
      },
      "execution_count": 1,
      "outputs": [
        {
          "output_type": "stream",
          "name": "stdout",
          "text": [
            "hello,World😺\n",
            "제 이름은 \n",
            "박세현 입니다.\n",
            "100\n"
          ]
        }
      ]
    },
    {
      "cell_type": "code",
      "source": [
        "# 함수: 이름 뒤에 소괄호\n",
        "print(\"저의 이름은 \\\"박세현\\\" 이고, 나이는\\\"17\\\"살 입니다.\")"
      ],
      "metadata": {
        "colab": {
          "base_uri": "https://localhost:8080/"
        },
        "outputId": "794179f7-08ea-4196-ad9c-81334653c724",
        "id": "HKUcSm4cFyqz"
      },
      "execution_count": 2,
      "outputs": [
        {
          "output_type": "stream",
          "name": "stdout",
          "text": [
            "저의 이름은 \"박세현\" 이고, 나이는\"17\"살 입니다.\n"
          ]
        }
      ]
    },
    {
      "cell_type": "markdown",
      "source": [
        "## 제어문자\n",
        "    - 반드시 따옴표 안에서 작성해야 한다.\n",
        "    - 문자열 내부에서 기호를 문자열로 인식시키거나, 어떠한 기능을 수행하는 역할을 한다.\n",
        "\n",
        "### \\n\n",
        "    - new line, 개행 문자, 줄바꿈\n",
        "\n",
        "### \\t\n",
        "    - tab, 위 아래 줄 간격 맞춰 띄기\n",
        "\n",
        "### \\\"\n",
        "    - \"를 표현한것\n",
        "\n",
        "### \\'\n",
        "    - '를 표현한것\n",
        "\n",
        "### \\\\\n",
        "    - \\를 표현한것\n",
        "\n",
        "### 문자열('', \"\")\n",
        "    - 컴퓨터가 명령어가 아닌 문자열 값 임을 구분할 수 있게 사용한다.\n",
        "    즉, 문자열은 문자들의 나열이다.\n",
        "\n",
        "\n"
      ],
      "metadata": {
        "id": "V90bN79NGDY-"
      }
    }
  ]
}