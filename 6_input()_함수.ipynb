{
  "nbformat": 4,
  "nbformat_minor": 0,
  "metadata": {
    "colab": {
      "provenance": []
    },
    "kernelspec": {
      "name": "python3",
      "display_name": "Python 3"
    },
    "language_info": {
      "name": "python"
    }
  },
  "cells": [
    {
      "cell_type": "markdown",
      "source": [
        "# input() 함수\n",
        "    - 사용자에게 입력값을 받기 위한 기능을 가지고 있는 함수이며,\n",
        "    사용자가 입력한 값을 리턴(반환)한다."
      ],
      "metadata": {
        "id": "iWvdoREn_RDI"
      }
    },
    {
      "cell_type": "code",
      "execution_count": null,
      "metadata": {
        "colab": {
          "base_uri": "https://localhost:8080/"
        },
        "id": "PhjFleSU-lKS",
        "outputId": "2ba851fc-e0ef-43ef-c554-0a30777a3a39"
      },
      "outputs": [
        {
          "output_type": "stream",
          "name": "stdout",
          "text": [
            "이름을 입력하세요.😺\n",
            "박세현\n",
            "박세현님 환영합니다!\n"
          ]
        }
      ],
      "source": [
        "message = '이름을 입력하세요.😺\\n'\n",
        "name = input(message)\n",
        "print(name + '님 환영합니다!')"
      ]
    },
    {
      "cell_type": "code",
      "source": [
        "print(name)"
      ],
      "metadata": {
        "colab": {
          "base_uri": "https://localhost:8080/"
        },
        "id": "hzKJxvZP_L6s",
        "outputId": "924836b5-2a02-49af-ebe3-a51d905f8131"
      },
      "execution_count": null,
      "outputs": [
        {
          "output_type": "stream",
          "name": "stdout",
          "text": [
            "박세현\n"
          ]
        }
      ]
    },
    {
      "cell_type": "code",
      "source": [
        "# 문제\n",
        "# 1) 사용자로부터 실수를 입력받고, 해당 값을 실수형으로 변환해서 출력\n",
        "\n",
        "message = \"실수를 입력하세요 ex) 1.1, 10.2\\n\"\n",
        "num = float(input(message))\n",
        "print(num)\n",
        "\n",
        "# 2) 사용자로부터 정수를 입력받고, 해당 값을 정수형으로 변환해서 출력\n",
        "\n",
        "message = \"정수를 입력하세요 ex) 1, 10\\n\"\n",
        "num = int(input(message))\n",
        "print(num)"
      ],
      "metadata": {
        "colab": {
          "base_uri": "https://localhost:8080/"
        },
        "id": "L1sYqHTR_duZ",
        "outputId": "0743b3a4-72b3-4c0f-f595-db4611bc2a69"
      },
      "execution_count": null,
      "outputs": [
        {
          "output_type": "stream",
          "name": "stdout",
          "text": [
            "실수를 입력하세요 ex) 1.1, 10.2\n",
            "12\n",
            "12.0\n",
            "정수를 입력하세요 ex) 1, 10\n",
            "12\n",
            "12\n"
          ]
        }
      ]
    },
    {
      "cell_type": "markdown",
      "source": [
        "# 서식문자(형식을 갖춘 문자열)\n",
        "    - % 연산자 (서식연산자)\n",
        "        - %d(정수) : '%d' % 10\n",
        "        - %d(실수) : '%f' % 3.14\n",
        "        - %s(문자열) : '%s' % '안녕'\n",
        "\n",
        "- f-string\n",
        "    - f'문자열 내부에서 {변수}를 사용하고 싶을 때 사용하는 문자열'\n",
        "        "
      ],
      "metadata": {
        "id": "xMDx6FzXCIcg"
      }
    },
    {
      "cell_type": "code",
      "source": [
        "# Ctrl + M -> Y (텍스트 셀 -> 코드 셀)\n",
        "print('나이는 : %d' % 20)\n",
        "print('나이는 : %d, 출생년도 : %d' % (20, 2001))\n",
        "\n",
        "print('키는 : %f' % 190.1)\n",
        "\n",
        "print('수업 과목은 : %s' % '파이썬')"
      ],
      "metadata": {
        "id": "fq2J9k-aDN7D",
        "colab": {
          "base_uri": "https://localhost:8080/"
        },
        "outputId": "9301d140-be07-4639-c497-3cb74e63fafc"
      },
      "execution_count": null,
      "outputs": [
        {
          "output_type": "stream",
          "name": "stdout",
          "text": [
            "나이는 : 20\n",
            "나이는 : 20, 출생년도 : 2001\n",
            "키는 : 190.100000\n",
            "수업 과목은 : 파이썬\n"
          ]
        }
      ]
    },
    {
      "cell_type": "code",
      "source": [
        "# 현재시간 -> 시, 분을 입력받아서\n",
        "# 결과 : 현재시간은 oo시 oo분 입니다. 를 출력\n",
        "message = '시간을 입력하세요.\\n'\n",
        "hour = input(message)\n",
        "\n",
        "message = '분을 입력하세요.\\n'\n",
        "minute = input(message)\n",
        "\n",
        "print(f'현재시간은 {hour}시 {minute}분 입니다.')\n",
        "print('현재시간은 %d시 %d분 입니다.' % (int(hour), int(minute)))\n"
      ],
      "metadata": {
        "colab": {
          "base_uri": "https://localhost:8080/"
        },
        "id": "szJOfhT7EL4f",
        "outputId": "a8ef2dc5-70ff-4f23-cb1c-27bb257d4382"
      },
      "execution_count": null,
      "outputs": [
        {
          "output_type": "stream",
          "name": "stdout",
          "text": [
            "시간을 입력하세요.\n",
            "11\n",
            "분을 입력하세요.\n",
            "50\n",
            "현재시간은 11시 50분 입니다.\n",
            "현재시간은 11시 50분 입니다.\n"
          ]
        }
      ]
    }
  ]
}