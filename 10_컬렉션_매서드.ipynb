{
  "nbformat": 4,
  "nbformat_minor": 0,
  "metadata": {
    "colab": {
      "provenance": []
    },
    "kernelspec": {
      "name": "python3",
      "display_name": "Python 3"
    },
    "language_info": {
      "name": "python"
    }
  },
  "cells": [
    {
      "cell_type": "code",
      "execution_count": 11,
      "metadata": {
        "colab": {
          "base_uri": "https://localhost:8080/"
        },
        "id": "BQDbZ4G-Pfad",
        "outputId": "b20f7150-02bf-43aa-d345-a3a4e4fe1c08"
      },
      "outputs": [
        {
          "output_type": "stream",
          "name": "stdout",
          "text": [
            "[1, 2, 3, 4, 5, 6, 7, 8, 9, 10]\n",
            "[1, 2, 3, 4, 5, 6, 7, 8, 9, 10, 100]\n",
            "[1, 2, 3, 4, 200, 5, 6, 7, 8, 9, 10, 100]\n",
            "[1, 2, 3, 4, 5, 6, 7, 8, 9, 10, 100]\n",
            "[1, 2, 3, 4, 200, 5, 6, 7, 200, 8, 9, 10, 100]\n",
            "[1, 2, 3, 4, 5, 6, 7, 200, 8, 9, 10, 100]\n"
          ]
        }
      ],
      "source": [
        "# 리스트 컴프리헨션\n",
        "# 세트 컴프리헨션\n",
        "# 딕셔너리 컴프리헨션\n",
        "li1 = [i + 1 for i in range(10)]\n",
        "print(li1)\n",
        "\n",
        "# 리스트에 값을 추가하는 법\n",
        "# .append() : 맨 뒤에 값을 추가\n",
        "li1.append(100)\n",
        "print(li1)\n",
        "\n",
        "li1.insert(4, 200)\n",
        "print(li1)\n",
        "\n",
        "li1.remove(200)\n",
        "print(li1)\n",
        "\n",
        "li1.insert(4,200)\n",
        "li1.insert(8,200)\n",
        "print(li1)\n",
        "\n",
        "# 먼저 만나는 값을 삭제\n",
        "li1.remove(200)\n",
        "print(li1)\n"
      ]
    },
    {
      "cell_type": "code",
      "source": [
        "# len(): 길이를 확인하는 함수\n",
        "li2 = [(i + 1) * 10 for i in range(76)]\n",
        "print(li2)\n",
        "print(len(li2))\n",
        "\n",
        "for i in li2:\n",
        "    print(i)\n",
        "\n",
        "for i in range(len(li2)):\n",
        "    print(i)"
      ],
      "metadata": {
        "colab": {
          "base_uri": "https://localhost:8080/"
        },
        "collapsed": true,
        "id": "1t5LXQPmRxWr",
        "outputId": "0802defc-1224-4a4a-96c6-76faa8510009"
      },
      "execution_count": 18,
      "outputs": [
        {
          "output_type": "stream",
          "name": "stdout",
          "text": [
            "[10, 20, 30, 40, 50, 60, 70, 80, 90, 100, 110, 120, 130, 140, 150, 160, 170, 180, 190, 200, 210, 220, 230, 240, 250, 260, 270, 280, 290, 300, 310, 320, 330, 340, 350, 360, 370, 380, 390, 400, 410, 420, 430, 440, 450, 460, 470, 480, 490, 500, 510, 520, 530, 540, 550, 560, 570, 580, 590, 600, 610, 620, 630, 640, 650, 660, 670, 680, 690, 700, 710, 720, 730, 740, 750, 760]\n",
            "76\n",
            "10\n",
            "20\n",
            "30\n",
            "40\n",
            "50\n",
            "60\n",
            "70\n",
            "80\n",
            "90\n",
            "100\n",
            "110\n",
            "120\n",
            "130\n",
            "140\n",
            "150\n",
            "160\n",
            "170\n",
            "180\n",
            "190\n",
            "200\n",
            "210\n",
            "220\n",
            "230\n",
            "240\n",
            "250\n",
            "260\n",
            "270\n",
            "280\n",
            "290\n",
            "300\n",
            "310\n",
            "320\n",
            "330\n",
            "340\n",
            "350\n",
            "360\n",
            "370\n",
            "380\n",
            "390\n",
            "400\n",
            "410\n",
            "420\n",
            "430\n",
            "440\n",
            "450\n",
            "460\n",
            "470\n",
            "480\n",
            "490\n",
            "500\n",
            "510\n",
            "520\n",
            "530\n",
            "540\n",
            "550\n",
            "560\n",
            "570\n",
            "580\n",
            "590\n",
            "600\n",
            "610\n",
            "620\n",
            "630\n",
            "640\n",
            "650\n",
            "660\n",
            "670\n",
            "680\n",
            "690\n",
            "700\n",
            "710\n",
            "720\n",
            "730\n",
            "740\n",
            "750\n",
            "760\n",
            "0\n",
            "1\n",
            "2\n",
            "3\n",
            "4\n",
            "5\n",
            "6\n",
            "7\n",
            "8\n",
            "9\n",
            "10\n",
            "11\n",
            "12\n",
            "13\n",
            "14\n",
            "15\n",
            "16\n",
            "17\n",
            "18\n",
            "19\n",
            "20\n",
            "21\n",
            "22\n",
            "23\n",
            "24\n",
            "25\n",
            "26\n",
            "27\n",
            "28\n",
            "29\n",
            "30\n",
            "31\n",
            "32\n",
            "33\n",
            "34\n",
            "35\n",
            "36\n",
            "37\n",
            "38\n",
            "39\n",
            "40\n",
            "41\n",
            "42\n",
            "43\n",
            "44\n",
            "45\n",
            "46\n",
            "47\n",
            "48\n",
            "49\n",
            "50\n",
            "51\n",
            "52\n",
            "53\n",
            "54\n",
            "55\n",
            "56\n",
            "57\n",
            "58\n",
            "59\n",
            "60\n",
            "61\n",
            "62\n",
            "63\n",
            "64\n",
            "65\n",
            "66\n",
            "67\n",
            "68\n",
            "69\n",
            "70\n",
            "71\n",
            "72\n",
            "73\n",
            "74\n",
            "75\n"
          ]
        }
      ]
    },
    {
      "cell_type": "code",
      "source": [
        "li3 = [1, 4, 8, 7, 6, 9, 3, 4, 5]\n",
        "print(max(li3))\n",
        "print(min(li3))\n",
        "print(sum(li3))\n",
        "\n",
        "li3.sort() # 오름차순\n",
        "print(li3)\n",
        "li3.sort(reverse=True) # 내림차순\n",
        "print(li3)\n",
        "\n",
        "print(li3.pop())\n",
        "print(li3.pop(4))\n",
        "print(li3)"
      ],
      "metadata": {
        "colab": {
          "base_uri": "https://localhost:8080/"
        },
        "id": "s84IPDGtSdIi",
        "outputId": "076eff7c-425e-4ac7-c46f-daa1007491e2"
      },
      "execution_count": 31,
      "outputs": [
        {
          "output_type": "stream",
          "name": "stdout",
          "text": [
            "9\n",
            "1\n",
            "47\n",
            "[1, 3, 4, 4, 5, 6, 7, 8, 9]\n",
            "[9, 8, 7, 6, 5, 4, 4, 3, 1]\n",
            "1\n",
            "5\n",
            "[9, 8, 7, 6, 4, 4, 3]\n"
          ]
        }
      ]
    },
    {
      "cell_type": "code",
      "source": [
        "# 1. 빈 리스트를 생성하고, 1부터 10까지 추가하기\n",
        "li4 = [1, 2, 3, 4, 5, 6, 7, 8 , 9, 10]\n",
        "# 리스트 컴프리헨션, 리스트 메서드\n",
        "\n",
        "li5 = [i + 1 for i in range(10)]\n",
        "\n",
        "li6 = []\n",
        "\n",
        "for i in range(10):\n",
        "    li6.append(i + 1)\n",
        "\n",
        "print(li4)\n",
        "print(li5)\n",
        "print(li6)\n"
      ],
      "metadata": {
        "colab": {
          "base_uri": "https://localhost:8080/"
        },
        "id": "JnU3v30qTiy2",
        "outputId": "7020476c-a652-4fbd-e627-2bcc013fbe1a"
      },
      "execution_count": 32,
      "outputs": [
        {
          "output_type": "stream",
          "name": "stdout",
          "text": [
            "[1, 2, 3, 4, 5, 6, 7, 8, 9, 10]\n",
            "[1, 2, 3, 4, 5, 6, 7, 8, 9, 10]\n",
            "[1, 2, 3, 4, 5, 6, 7, 8, 9, 10]\n"
          ]
        }
      ]
    },
    {
      "cell_type": "code",
      "source": [
        "# 5명의 학생의 점수를 받아서 전체 총합과 평균을 구하기\n",
        "li7 = []\n",
        "for i in range(5):\n",
        "    score = int(input(f'{i + 1}번째 학생의 점수를 입력하세요'))\n",
        "    li7.append(score)\n",
        "\n",
        "print(li7)\n",
        "print('총합 : ', sum(li7))\n",
        "print('평균 : ', sum(li7) / len(li7))"
      ],
      "metadata": {
        "colab": {
          "base_uri": "https://localhost:8080/"
        },
        "id": "poFgYfwoa-Gn",
        "outputId": "1b44c7dc-92e3-47a8-9e29-23637b354541"
      },
      "execution_count": 36,
      "outputs": [
        {
          "output_type": "stream",
          "name": "stdout",
          "text": [
            "1번째 학생의 점수를 입력하세요90\n",
            "2번째 학생의 점수를 입력하세요80\n",
            "3번째 학생의 점수를 입력하세요70\n",
            "4번째 학생의 점수를 입력하세요60\n",
            "5번째 학생의 점수를 입력하세요50\n",
            "[90, 80, 70, 60, 50]\n",
            "총합 :  350\n",
            "평균 :  70.0\n"
          ]
        }
      ]
    },
    {
      "cell_type": "code",
      "source": [
        "# 튜플 메서드\n",
        "# .count()\n",
        "name = '홍길동', '김길동', '장독대'\n",
        "print(name.count(''))\n",
        "print(name.index('홍길동'))\n",
        "\n",
        "# .index()\n",
        "print(name.index('김길동'))"
      ],
      "metadata": {
        "colab": {
          "base_uri": "https://localhost:8080/"
        },
        "id": "a4dbVw_mh_do",
        "outputId": "d8e7d936-ee2d-4b08-fcdb-d69d66d0b2ed"
      },
      "execution_count": 38,
      "outputs": [
        {
          "output_type": "stream",
          "name": "stdout",
          "text": [
            "0\n",
            "0\n",
            "1\n"
          ]
        }
      ]
    },
    {
      "cell_type": "code",
      "source": [
        "# 세트 메서드\n",
        "s1 = {'사과', '참외', '멜론', '바나나', '딸기', '사과', '참외'}\n",
        "s1.add('망고')\n",
        "print(s1)\n",
        "\n",
        "# .remove(값): 값을 삭제하는 메서드\n",
        "s1.remove('바나나')\n",
        "# s1.remove('바나나') 오류 발생\n",
        "# s1.discard('바나나') 오류가 발생하지 않음\n",
        "\n",
        "print(s1)\n",
        "print(s1.pop())\n",
        "print(s1.pop())\n",
        "print(s1.pop())\n",
        "print(s1.pop())\n",
        "print(s1)\n"
      ],
      "metadata": {
        "colab": {
          "base_uri": "https://localhost:8080/"
        },
        "id": "xkqd9gh5iN5E",
        "outputId": "9a27a081-1e29-4cb2-8474-a7071979bd40"
      },
      "execution_count": 45,
      "outputs": [
        {
          "output_type": "stream",
          "name": "stdout",
          "text": [
            "{'참외', '바나나', '사과', '망고', '딸기', '멜론'}\n",
            "{'참외', '사과', '망고', '딸기', '멜론'}\n",
            "참외\n",
            "사과\n",
            "망고\n",
            "딸기\n",
            "{'멜론'}\n"
          ]
        }
      ]
    },
    {
      "cell_type": "code",
      "source": [
        "# 딕셔너리 메서드\n",
        "countries = {'korea': '서울', 'japan': '도쿄', 'china': '베이징'}\n",
        "\n",
        "print(countries.keys())\n",
        "print(countries.values())\n",
        "print(countries.items())\n",
        "\n",
        "for i in countries.items():\n",
        "    print(i)\n",
        "\n",
        "print(countries['korea'])\n",
        "# print(cities['USA']) 오류가 등장함\n",
        "print('우리나라 수도: ' + countries.get('USA', \"없음\"))"
      ],
      "metadata": {
        "colab": {
          "base_uri": "https://localhost:8080/"
        },
        "id": "289YEyZHpA84",
        "outputId": "ae011b52-e437-4efa-c6de-6200023778d0"
      },
      "execution_count": 56,
      "outputs": [
        {
          "output_type": "stream",
          "name": "stdout",
          "text": [
            "dict_keys(['korea', 'japan', 'china'])\n",
            "dict_values(['서울', '도쿄', '베이징'])\n",
            "dict_items([('korea', '서울'), ('japan', '도쿄'), ('china', '베이징')])\n",
            "('korea', '서울')\n",
            "('japan', '도쿄')\n",
            "('china', '베이징')\n",
            "서울\n",
            "우리나라 수도: 없음\n"
          ]
        }
      ]
    }
  ]
}