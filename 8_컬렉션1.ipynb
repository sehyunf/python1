{
  "nbformat": 4,
  "nbformat_minor": 0,
  "metadata": {
    "colab": {
      "provenance": []
    },
    "kernelspec": {
      "name": "python3",
      "display_name": "Python 3"
    },
    "language_info": {
      "name": "python"
    }
  },
  "cells": [
    {
      "cell_type": "markdown",
      "source": [
        "# 컬렉션(list, tiple, set, dict)\n",
        "1) list []\n",
        "- 추가, 수정, 삭제, 언제나 가능\n",
        "- [] 대괄호로 묶어주고 ,(콤마)로 값을 구분한다.\n",
        "\n",
        "2) tuple ()\n",
        "- 한번 생성하고 나면 변경이 불가능\n",
        "- () 소괄호로 묶어주고 ,(콤마로) 값을 구분한다.\n",
        "\n",
        "3) set()\n",
        "- 순서가 없는 자료구조(비시퀀스)\n",
        "- 중복된 값을 저장이 불가능\n",
        "- {} 중괄호로 묶어주고  ,(콤마)로 값을 구분한다.\n",
        "\n",
        "4) dict {key: value}\n",
        "- 키 + 값이 한 쌍으로 관리하며 ,(콤마)로 값을 구분한다\n",
        "- key는 중복 값을 허용하지 않으며, value는 중복 값을 허용한다\n",
        "- key를 통해 value를 가져온다.\n",
        "\n"
      ],
      "metadata": {
        "id": "YX43ke0T1E_x"
      }
    },
    {
      "cell_type": "code",
      "source": [
        "# list\n",
        "li1 = [1, 2, 3, 4, 5]\n",
        "li1[2] = 100\n",
        "print(li1[2])\n",
        "\n",
        "li1[3:5]\n",
        "\n",
        "li2 = [1.1, False, '가', 3, []]\n",
        "print(li2)\n",
        "\n",
        "# in 연산자(멤버십 연산자)\n",
        "# 대상 in 객체\n",
        "\n",
        "li3 = [10, 20, 30, 40, 50, 60, 70]\n",
        "print(70 in li3)\n",
        "print(\"a\" in \"abcdef\")\n",
        "print(not (100 in li3))\n",
        "print(100 not in li3)\n",
        "\n",
        "print(\"b\" in {\"a\", 100})"
      ],
      "metadata": {
        "colab": {
          "base_uri": "https://localhost:8080/"
        },
        "id": "IZ4m7OTQ5Xjr",
        "outputId": "44962160-5f7b-4b51-eded-2f0219ea81c7"
      },
      "execution_count": 8,
      "outputs": [
        {
          "output_type": "stream",
          "name": "stdout",
          "text": [
            "100\n",
            "[1.1, False, '가', 3, []]\n",
            "True\n",
            "True\n",
            "True\n",
            "True\n",
            "False\n"
          ]
        }
      ]
    },
    {
      "cell_type": "code",
      "source": [
        "# tuple\n",
        "# 패킹\n",
        "name = '홍길동', '장보고'\n",
        "# 언패킹\n",
        "hong, jang = name\n",
        "print(hong)\n",
        "print(jang)\n",
        "\n",
        "print(name)\n",
        "\n",
        "# name[0] = '얼룩이' # 불가능!\n",
        "print(name[0])\n",
        "print(name[1])\n",
        "\n",
        "# 시퀀스 자료형\n",
        "# 시퀀스 연산자\n",
        "print(jang * 2) # 반복\n",
        "print(hong + jang) # 연결\n",
        "print([10, 20] * 2) # 반복\n",
        "print([10, 20] + [30, 40]) # 연결\n",
        "\n",
        "# 비시퀀스 자료형에서는 사용할 수 없다.\n",
        "# print({10, 20} * 10)\n",
        "# print({10, 20} + {30, 40})\n"
      ],
      "metadata": {
        "colab": {
          "base_uri": "https://localhost:8080/"
        },
        "id": "x-t7pJvQ6oYt",
        "outputId": "5d1b9d32-25f9-448c-91c2-add018c44358"
      },
      "execution_count": 16,
      "outputs": [
        {
          "output_type": "stream",
          "name": "stdout",
          "text": [
            "홍길동\n",
            "장보고\n",
            "('홍길동', '장보고')\n",
            "홍길동\n",
            "장보고\n",
            "장보고장보고\n",
            "홍길동장보고\n",
            "[10, 20, 10, 20]\n",
            "[10, 20, 30, 40]\n"
          ]
        }
      ]
    },
    {
      "cell_type": "code",
      "source": [
        "#  빈 중괄호 dict\n",
        "set1 = set()\n",
        "di1 = {}\n",
        "\n",
        "print(di1, type(di1))\n",
        "print(set1, type(set1))\n",
        "\n",
        "di2 = {'A점': ['짱구', '철수'], 'B점': ['유리', '맹구']}\n",
        "print(di2['B점'])\n",
        "print(di2['B점'][0])\n",
        "print(di2['A점'][1])"
      ],
      "metadata": {
        "colab": {
          "base_uri": "https://localhost:8080/"
        },
        "id": "C3Tb8VjW8Kal",
        "outputId": "b35390f3-2f46-4704-a575-79f1e501031c"
      },
      "execution_count": 22,
      "outputs": [
        {
          "output_type": "stream",
          "name": "stdout",
          "text": [
            "{} <class 'dict'>\n",
            "set() <class 'set'>\n",
            "['유리', '맹구']\n",
            "유리\n",
            "철수\n"
          ]
        }
      ]
    }
  ]
}