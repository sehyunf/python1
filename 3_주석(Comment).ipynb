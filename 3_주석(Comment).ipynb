{
  "nbformat": 4,
  "nbformat_minor": 0,
  "metadata": {
    "colab": {
      "provenance": []
    },
    "kernelspec": {
      "name": "python3",
      "display_name": "Python 3"
    },
    "language_info": {
      "name": "python"
    }
  },
  "cells": [
    {
      "cell_type": "code",
      "execution_count": 4,
      "metadata": {
        "id": "EIDuwzYut71a"
      },
      "outputs": [],
      "source": [
        "# \"주석을 달아 보자!\"\n",
        "# \".\""
      ]
    },
    {
      "cell_type": "markdown",
      "source": [
        "# 주석\n",
        "    - 문장의 뜻을 쉽게 풀이해 놓은 설명문이다.\n",
        "    따라서 프로그램 수행에는 전혀 영향을 미치지 않는다.\n",
        "\n",
        "## 주석의 용도\n",
        "    1) 프로그램의 개요를 소스 코드에 적을 때\n",
        "    2) 어떤 변수나 로직에 설명이 필요할 때\n",
        "    3) 이미 작성한 부분을 실행 시에 임시로 빼고 싶을 때\n",
        "\n",
        "## 여러줄 주석(Doc String) : ''' ''', \"\"\" \"\"\"\n",
        "    - 본래 용도는 묘듈, 함수, 클래스 또는 메소드 정의의 첫 번째 명령문으로 발생하는 문자열을 리턴\n",
        "\n"
      ],
      "metadata": {
        "id": "SW8_LsZXuSXm"
      }
    }
  ]
}