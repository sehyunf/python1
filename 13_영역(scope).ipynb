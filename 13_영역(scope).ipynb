{
  "nbformat": 4,
  "nbformat_minor": 0,
  "metadata": {
    "colab": {
      "provenance": []
    },
    "kernelspec": {
      "name": "python3",
      "display_name": "Python 3"
    },
    "language_info": {
      "name": "python"
    }
  },
  "cells": [
    {
      "cell_type": "code",
      "execution_count": 2,
      "metadata": {
        "colab": {
          "base_uri": "https://localhost:8080/"
        },
        "id": "EfbbIkU-t9vN",
        "outputId": "1728526e-dcc6-4ba2-dd12-d5b91eafa920"
      },
      "outputs": [
        {
          "output_type": "stream",
          "name": "stdout",
          "text": [
            "20\n"
          ]
        }
      ],
      "source": [
        "value = 100\n",
        "\n",
        "def change_value():\n",
        "    global value\n",
        "    value = 20\n",
        "\n",
        "change_value()\n",
        "\n",
        "print(value)\n"
      ]
    },
    {
      "cell_type": "markdown",
      "source": [
        "# 영역(scope)\n",
        "1. 지역변수\n",
        "- 함수 내부에서 선언된 변수이며, 함수에서만 사용이 가능하다\n",
        "\n",
        "2. 전역변수\n",
        "- 함수 밖에서 선언한 변수, 전역에서 사용이 가능하다\n",
        "\n",
        "#global문\n",
        "- global문을 사용하면 함수 안에서도 전역변수의 값을 수정할 수 있다."
      ],
      "metadata": {
        "id": "Ogvr27GBwA9t"
      }
    },
    {
      "cell_type": "code",
      "source": [
        "# 10분\n",
        "# 회사의 회사원 3명\n",
        "# employee 함수를 3개\n",
        "# employee1, employee2, employee3\n",
        "# 함수를 이용해서 수입들을 모두 전역변수에 추가해야 한다.\n",
        "income = 0\n",
        "\n",
        "def employee1():\n",
        "    global income\n",
        "    income += 1000\n",
        "\n",
        "def employee2():\n",
        "    global income\n",
        "    income += 2000\n",
        "\n",
        "def employee3():\n",
        "    global income\n",
        "    income += 5000\n",
        "\n",
        "employee1()\n",
        "employee2()\n",
        "employee3()\n",
        "\n",
        "print(income)"
      ],
      "metadata": {
        "colab": {
          "base_uri": "https://localhost:8080/"
        },
        "id": "vjcgIS3vxueW",
        "outputId": "f1c6c824-b78c-406c-816b-10b17944600a"
      },
      "execution_count": 4,
      "outputs": [
        {
          "output_type": "stream",
          "name": "stdout",
          "text": [
            "8000\n"
          ]
        }
      ]
    }
  ]
}