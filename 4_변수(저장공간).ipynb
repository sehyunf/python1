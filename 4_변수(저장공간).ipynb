{
  "nbformat": 4,
  "nbformat_minor": 0,
  "metadata": {
    "colab": {
      "provenance": []
    },
    "kernelspec": {
      "name": "python3",
      "display_name": "Python 3"
    },
    "language_info": {
      "name": "python"
    }
  },
  "cells": [
    {
      "cell_type": "code",
      "execution_count": null,
      "metadata": {
        "colab": {
          "base_uri": "https://localhost:8080/"
        },
        "id": "88-w78aCvKW1",
        "outputId": "3bbb2111-9c52-4c34-a504-3bd35c1db68a"
      },
      "outputs": [
        {
          "output_type": "stream",
          "name": "stdout",
          "text": [
            "홍길동\n",
            "파이썬\n",
            "저는 홍길동이고  파이썬  과목을 듣고 있습니다.\n"
          ]
        }
      ],
      "source": [
        "name = \"홍길동\"\n",
        "subject = \"파이썬\"\n",
        "\n",
        "print(name)\n",
        "print(subject)\n",
        "\n",
        "print(\"저는 \" + name + \"이고 \",subject,\" 과목을 듣고 있습니다.\")"
      ]
    },
    {
      "cell_type": "code",
      "source": [
        "# 실습1 : 이름, 나이, 취미를 입력 후 변수에 담는다.\n",
        "# 그리고 아래와 같이 출력한다.\n",
        "# ex) 저의 이름은 ooo이고, 나이는 oo살, 취미는 ooo입니다.\n",
        "\n",
        "name = \"홍길동\"\n",
        "name = \"가나다\"\n",
        "name = \"홍길동\"\n",
        "name = \"나다라\"\n",
        "name = \"홍길동\"\n",
        "name = \"장보고\"\n",
        "age = 20\n",
        "hobby = \"운동\"\n",
        "\n",
        "print(\"저의 이름은 \" + name + \"이고, 나이는 \" + str(age) + \"살, 취미는 \" + hobby + \"입니다.\")"
      ],
      "metadata": {
        "colab": {
          "base_uri": "https://localhost:8080/"
        },
        "id": "jasEm-HlyI5v",
        "outputId": "fccee989-ec92-4b71-88a5-1914ba6c05af"
      },
      "execution_count": null,
      "outputs": [
        {
          "output_type": "stream",
          "name": "stdout",
          "text": [
            "저의 이름은 장보고이고, 나이는 20살, 취미는 운동입니다.\n"
          ]
        }
      ]
    },
    {
      "cell_type": "code",
      "source": [
        "num1 = 100\n",
        "num2 = 300\n",
        "\n",
        "print (num1 + num2)"
      ],
      "metadata": {
        "colab": {
          "base_uri": "https://localhost:8080/"
        },
        "id": "O3GN0Lbjyx9O",
        "outputId": "b49c9f91-3299-4761-f1b4-19adfaef5ec2"
      },
      "execution_count": null,
      "outputs": [
        {
          "output_type": "stream",
          "name": "stdout",
          "text": [
            "400\n"
          ]
        }
      ]
    },
    {
      "cell_type": "code",
      "source": [
        "# my_age = 100\n",
        "# hobby3 = '공놀이'\n",
        "# 3hobby3 = '공놀이'\n",
        "# company_salary = 1000000000\n",
        "\n",
        "# 키워드를 사용할 수 가 없다.\n",
        "# print = 10\n",
        "# if\n",
        "\n",
        "print(\"출력해주세요~!\")\n",
        "\n",
        "# 자료형을 지켜야 한다.\n",
        "# print(17 + \"살\")"
      ],
      "metadata": {
        "colab": {
          "base_uri": "https://localhost:8080/"
        },
        "id": "nLUq2wfE4gaN",
        "outputId": "f505fb9a-d25c-4a1f-fa14-60f8c3eb7c38"
      },
      "execution_count": null,
      "outputs": [
        {
          "output_type": "stream",
          "name": "stdout",
          "text": [
            "출력해주세요~!\n"
          ]
        }
      ]
    }
  ]
}