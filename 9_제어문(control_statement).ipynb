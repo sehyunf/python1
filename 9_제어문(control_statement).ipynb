{
  "nbformat": 4,
  "nbformat_minor": 0,
  "metadata": {
    "colab": {
      "provenance": []
    },
    "kernelspec": {
      "name": "python3",
      "display_name": "Python 3"
    },
    "language_info": {
      "name": "python"
    }
  },
  "cells": [
    {
      "cell_type": "markdown",
      "source": [
        "#제어문\n",
        "1. if문\n",
        "    - 특정 조건의 만족 여부에 따라 실행\n",
        "    - if, if else, if else else\n",
        "\n",
        "     - if 조건식1 :\n",
        "        - 조건식1을 만족하면 실행할 문장\n",
        "     - elif 조건식2 :\n",
        "        - 조건식 1을 만족하지 않고,\n",
        "        - 조건식 2를 만족하면 실행할 문장\n",
        "     - elif 조건식3 :\n",
        "        - ...\n",
        "     - else :\n",
        "        - 모든 조건식을 만족하지 않을 때 실행할 문장\n",
        "    \n",
        "2. while문\n",
        "    - 특정 조건을 만족하는 동안(true) 반복해서 수행한다\n",
        "        - while 조건식 :\n",
        "            반복할 문장"
      ],
      "metadata": {
        "id": "KGUIPn5UTYUd"
      }
    },
    {
      "cell_type": "code",
      "source": [
        "# 시험\n",
        "# 90점 이상 A, 80점 이상 B, 70점 이상 C, 70점 미만이면 F학점\n",
        "grade = \"\";\n",
        "score = int(input(\"점수를 입력하세요 : \"))\n",
        "\n",
        "# depth : 영역\n",
        "if score >= 90 :\n",
        "    grade = \"A\"\n",
        "elif score >= 80 :\n",
        "    grade = \"B\"\n",
        "elif score >= 70 :\n",
        "    grade = \"C\"\n",
        "else :\n",
        "    grade = \"F\"\n",
        "print(grade)"
      ],
      "metadata": {
        "colab": {
          "base_uri": "https://localhost:8080/"
        },
        "id": "DCE3VGccUz4D",
        "outputId": "3076721e-cf6e-4348-fa93-cac7e61d9826"
      },
      "execution_count": null,
      "outputs": [
        {
          "output_type": "stream",
          "name": "stdout",
          "text": [
            "점수를 입력하세요 : 95\n",
            "A\n"
          ]
        }
      ]
    },
    {
      "cell_type": "code",
      "source": [
        "# 실습 1.\n",
        "# 사용자에게 두개의 정수를 입력 받아서,\n",
        "# 두 수 중 큰 값을 비교하기\n",
        "# if~elif~else문 사용\n",
        "max = 0\n",
        "num1 = int(input(\"정수1 : \"))\n",
        "num2 = int(input(\"정수2 : \"))\n",
        "\n",
        "if num1 > num2 :\n",
        "    max = num1\n",
        "elif num1 < num2 :\n",
        "    max = num2\n",
        "else :\n",
        "    max = num1\n",
        "\n",
        "print(f\"큰 값은 {max}입니다.\")"
      ],
      "metadata": {
        "colab": {
          "base_uri": "https://localhost:8080/"
        },
        "id": "n5-cN0t8V0gN",
        "outputId": "b93c4615-7ea7-4ab3-a0a1-a2bb477459b9"
      },
      "execution_count": null,
      "outputs": [
        {
          "output_type": "stream",
          "name": "stdout",
          "text": [
            "정수1 : 10\n",
            "정수2 : 20\n",
            "큰 값은 20입니다.\n"
          ]
        }
      ]
    },
    {
      "cell_type": "code",
      "source": [
        "hangles = \"가나다라마바사아자차카타파하\"\n",
        "\n",
        "# for hangle in '가나다라마바사아자차카타파하':\n",
        "#     print(hangle)\n",
        "\n",
        "for hangle in hangles :\n",
        "    print(hangle)"
      ],
      "metadata": {
        "colab": {
          "base_uri": "https://localhost:8080/"
        },
        "id": "6nxcd4YOaVaB",
        "outputId": "b16226f3-8f36-44a2-d2a6-f25fb8665a35"
      },
      "execution_count": null,
      "outputs": [
        {
          "output_type": "stream",
          "name": "stdout",
          "text": [
            "가\n",
            "나\n",
            "다\n",
            "라\n",
            "마\n",
            "바\n",
            "사\n",
            "아\n",
            "자\n",
            "차\n",
            "카\n",
            "타\n",
            "파\n",
            "하\n"
          ]
        }
      ]
    },
    {
      "cell_type": "code",
      "source": [
        "food_list = ['치킨', '밥', '보쌈', '무뼈닭발', '햄버거', '떡볶이', '순대']\n",
        "food_sets = {'치킨', '밥', '보쌈', '무뼈닭발', '햄버거', '떡볶이', '순대'}\n",
        "sport_dict = {\"축구\": 11, \"농구\": 5, \"배구\": 7, \"야구\": 9, \"배드민턴\": 2}\n",
        "\n",
        "for food in food_list :\n",
        "    print(food)\n",
        "\n",
        "print(\"====================================\")\n",
        "\n",
        "for food in food_sets :\n",
        "    print(food)\n",
        "\n",
        "print(\"====================================\")\n",
        "# 딕셔너리는 key값을 들고온다.\n",
        "for sport in sport_dict :\n",
        "    print(sport.upper(), sport_dict[sport])"
      ],
      "metadata": {
        "colab": {
          "base_uri": "https://localhost:8080/"
        },
        "id": "-U94kZq-a4Hg",
        "outputId": "d6ac924d-f42b-4f31-f872-7ef99ebd97b6"
      },
      "execution_count": null,
      "outputs": [
        {
          "output_type": "stream",
          "name": "stdout",
          "text": [
            "치킨\n",
            "밥\n",
            "보쌈\n",
            "무뼈닭발\n",
            "햄버거\n",
            "떡볶이\n",
            "순대\n",
            "====================================\n",
            "밥\n",
            "치킨\n",
            "떡볶이\n",
            "무뼈닭발\n",
            "보쌈\n",
            "햄버거\n",
            "순대\n",
            "====================================\n",
            "축구 11\n",
            "농구 5\n",
            "배구 7\n",
            "야구 9\n",
            "배드민턴 2\n"
          ]
        }
      ]
    },
    {
      "cell_type": "code",
      "source": [
        "# 종료값을 포함하지 않는다.\n",
        "# range(시작값, 종료값, 스탭)\n",
        "# for i in range(1,100) :\n",
        "#     print(i)\n",
        "\n",
        "# 짝수\n",
        "for i in range(0, 100, 2):\n",
        "    print(i)\n",
        "\n",
        "# 홀수\n",
        "for i in range(1, 100, 2):\n",
        "    print(i)"
      ],
      "metadata": {
        "colab": {
          "base_uri": "https://localhost:8080/"
        },
        "collapsed": true,
        "id": "u9bYkhoGb4dU",
        "outputId": "32b33cf2-4148-42f1-8914-ed338eb04589"
      },
      "execution_count": null,
      "outputs": [
        {
          "output_type": "stream",
          "name": "stdout",
          "text": [
            "0\n",
            "2\n",
            "4\n",
            "6\n",
            "8\n",
            "10\n",
            "12\n",
            "14\n",
            "16\n",
            "18\n",
            "20\n",
            "22\n",
            "24\n",
            "26\n",
            "28\n",
            "30\n",
            "32\n",
            "34\n",
            "36\n",
            "38\n",
            "40\n",
            "42\n",
            "44\n",
            "46\n",
            "48\n",
            "50\n",
            "52\n",
            "54\n",
            "56\n",
            "58\n",
            "60\n",
            "62\n",
            "64\n",
            "66\n",
            "68\n",
            "70\n",
            "72\n",
            "74\n",
            "76\n",
            "78\n",
            "80\n",
            "82\n",
            "84\n",
            "86\n",
            "88\n",
            "90\n",
            "92\n",
            "94\n",
            "96\n",
            "98\n",
            "1\n",
            "3\n",
            "5\n",
            "7\n",
            "9\n",
            "11\n",
            "13\n",
            "15\n",
            "17\n",
            "19\n",
            "21\n",
            "23\n",
            "25\n",
            "27\n",
            "29\n",
            "31\n",
            "33\n",
            "35\n",
            "37\n",
            "39\n",
            "41\n",
            "43\n",
            "45\n",
            "47\n",
            "49\n",
            "51\n",
            "53\n",
            "55\n",
            "57\n",
            "59\n",
            "61\n",
            "63\n",
            "65\n",
            "67\n",
            "69\n",
            "71\n",
            "73\n",
            "75\n",
            "77\n",
            "79\n",
            "81\n",
            "83\n",
            "85\n",
            "87\n",
            "89\n",
            "91\n",
            "93\n",
            "95\n",
            "97\n",
            "99\n"
          ]
        }
      ]
    },
    {
      "cell_type": "code",
      "source": [
        "# 실습 구구단 만들기\n",
        "# for문 3단\n",
        "# 출력 예시)\n",
        "# 3 X 1 = 3\n",
        "# 3 X 2 = 6\n",
        "\n",
        "for i in range(1, 10):\n",
        "    print(f\"3 X {i} = {i*3}\")\n",
        "\n",
        "# 구구단 만들기\n",
        "for i in range(1, 10):\n",
        "    for j in range(1,10):\n",
        "        print(f\"{i} X {j} = {i*j}\")"
      ],
      "metadata": {
        "colab": {
          "base_uri": "https://localhost:8080/"
        },
        "id": "inpVvAcxcsoO",
        "outputId": "00ebd401-39c7-4464-cb5f-d4e0830eb121"
      },
      "execution_count": null,
      "outputs": [
        {
          "output_type": "stream",
          "name": "stdout",
          "text": [
            "3 X 1 = 3\n",
            "3 X 2 = 6\n",
            "3 X 3 = 9\n",
            "3 X 4 = 12\n",
            "3 X 5 = 15\n",
            "3 X 6 = 18\n",
            "3 X 7 = 21\n",
            "3 X 8 = 24\n",
            "3 X 9 = 27\n",
            "1 X 1 = 1\n",
            "1 X 2 = 2\n",
            "1 X 3 = 3\n",
            "1 X 4 = 4\n",
            "1 X 5 = 5\n",
            "1 X 6 = 6\n",
            "1 X 7 = 7\n",
            "1 X 8 = 8\n",
            "1 X 9 = 9\n",
            "2 X 1 = 2\n",
            "2 X 2 = 4\n",
            "2 X 3 = 6\n",
            "2 X 4 = 8\n",
            "2 X 5 = 10\n",
            "2 X 6 = 12\n",
            "2 X 7 = 14\n",
            "2 X 8 = 16\n",
            "2 X 9 = 18\n",
            "3 X 1 = 3\n",
            "3 X 2 = 6\n",
            "3 X 3 = 9\n",
            "3 X 4 = 12\n",
            "3 X 5 = 15\n",
            "3 X 6 = 18\n",
            "3 X 7 = 21\n",
            "3 X 8 = 24\n",
            "3 X 9 = 27\n",
            "4 X 1 = 4\n",
            "4 X 2 = 8\n",
            "4 X 3 = 12\n",
            "4 X 4 = 16\n",
            "4 X 5 = 20\n",
            "4 X 6 = 24\n",
            "4 X 7 = 28\n",
            "4 X 8 = 32\n",
            "4 X 9 = 36\n",
            "5 X 1 = 5\n",
            "5 X 2 = 10\n",
            "5 X 3 = 15\n",
            "5 X 4 = 20\n",
            "5 X 5 = 25\n",
            "5 X 6 = 30\n",
            "5 X 7 = 35\n",
            "5 X 8 = 40\n",
            "5 X 9 = 45\n",
            "6 X 1 = 6\n",
            "6 X 2 = 12\n",
            "6 X 3 = 18\n",
            "6 X 4 = 24\n",
            "6 X 5 = 30\n",
            "6 X 6 = 36\n",
            "6 X 7 = 42\n",
            "6 X 8 = 48\n",
            "6 X 9 = 54\n",
            "7 X 1 = 7\n",
            "7 X 2 = 14\n",
            "7 X 3 = 21\n",
            "7 X 4 = 28\n",
            "7 X 5 = 35\n",
            "7 X 6 = 42\n",
            "7 X 7 = 49\n",
            "7 X 8 = 56\n",
            "7 X 9 = 63\n",
            "8 X 1 = 8\n",
            "8 X 2 = 16\n",
            "8 X 3 = 24\n",
            "8 X 4 = 32\n",
            "8 X 5 = 40\n",
            "8 X 6 = 48\n",
            "8 X 7 = 56\n",
            "8 X 8 = 64\n",
            "8 X 9 = 72\n",
            "9 X 1 = 9\n",
            "9 X 2 = 18\n",
            "9 X 3 = 27\n",
            "9 X 4 = 36\n",
            "9 X 5 = 45\n",
            "9 X 6 = 54\n",
            "9 X 7 = 63\n",
            "9 X 8 = 72\n",
            "9 X 9 = 81\n"
          ]
        }
      ]
    },
    {
      "cell_type": "code",
      "source": [
        "# break\n",
        "for i in range(1, 5):\n",
        "    print(i)\n",
        "    if i == 2:\n",
        "        break\n",
        "\n",
        "print(\"탈출!😺\")"
      ],
      "metadata": {
        "colab": {
          "base_uri": "https://localhost:8080/"
        },
        "id": "RVfHUSKMgNSH",
        "outputId": "5dd26bdd-629c-497f-82b3-983a5ae72948"
      },
      "execution_count": null,
      "outputs": [
        {
          "output_type": "stream",
          "name": "stdout",
          "text": [
            "1\n",
            "2\n",
            "탈출!😺\n"
          ]
        }
      ]
    },
    {
      "cell_type": "code",
      "source": [
        "# continue\n",
        "\n",
        "for i in range(1, 5):\n",
        "    if i == 2:\n",
        "        continue\n",
        "    print(i)\n",
        "\n",
        "print(\"탈출!😺\")"
      ],
      "metadata": {
        "colab": {
          "base_uri": "https://localhost:8080/"
        },
        "id": "abErQpztg-F4",
        "outputId": "f303f3cb-ccfc-4d64-d473-143003a6ab03"
      },
      "execution_count": null,
      "outputs": [
        {
          "output_type": "stream",
          "name": "stdout",
          "text": [
            "1\n",
            "3\n",
            "4\n",
            "탈출!😺\n"
          ]
        }
      ]
    },
    {
      "cell_type": "code",
      "source": [
        "# pass\n",
        "for i in range(1, 5):\n",
        "    pass\n",
        "\n",
        "print(\"탈출!😺\")"
      ],
      "metadata": {
        "colab": {
          "base_uri": "https://localhost:8080/"
        },
        "id": "jqrk8lGMhFOY",
        "outputId": "26905990-2fd9-47fc-eb77-1ba32f173b6d"
      },
      "execution_count": null,
      "outputs": [
        {
          "output_type": "stream",
          "name": "stdout",
          "text": [
            "탈출!😺\n"
          ]
        }
      ]
    },
    {
      "cell_type": "code",
      "source": [
        "# 예제\n",
        "# 1) 1~100까지 홀수만 출력하기\n",
        "# for i in range(1, 100, 2):\n",
        "#     print(i)\n",
        "\n",
        "# 2) 3~50까지 4씩 증가하는 반복문\n",
        "for i in range(3, 50, 4):\n",
        "    print(i)\n",
        "\n",
        "# 3) food_list 중 '햄버거'만 출력하기\n",
        "for food in food_list :\n",
        "    if food == '햄버거':\n",
        "        print(food)\n",
        "\n",
        "# 4) food_list의 결과를 \"오늘 저녁: ooo\" 으로 모든 리스트를 출력하기\\\n",
        "for food in food_list :\n",
        "    print(f\"오늘 저녁: {food}\")\n",
        "\n",
        "# 5) 1~50까지 반복 후 3의 배수만 출력하기\n",
        "for i in range(1, 50):\n",
        "    if i % 3 == 0:\n",
        "        print(i)\n",
        "\n",
        "# 6) 1~50까지 반복 후 10~20만 출력하기\n",
        "for i in range(1,51):\n",
        "    if i == 10 or i == 20 :\n",
        "        print(i)\n"
      ],
      "metadata": {
        "colab": {
          "base_uri": "https://localhost:8080/"
        },
        "id": "U7QOAnI_hR0g",
        "outputId": "2246f5aa-72a0-4c90-93a5-00567eb92b4b"
      },
      "execution_count": null,
      "outputs": [
        {
          "output_type": "stream",
          "name": "stdout",
          "text": [
            "3\n",
            "7\n",
            "11\n",
            "15\n",
            "19\n",
            "23\n",
            "27\n",
            "31\n",
            "35\n",
            "39\n",
            "43\n",
            "47\n",
            "햄버거\n",
            "오늘 저녁: 치킨\n",
            "오늘 저녁: 밥\n",
            "오늘 저녁: 보쌈\n",
            "오늘 저녁: 무뼈닭발\n",
            "오늘 저녁: 햄버거\n",
            "오늘 저녁: 떡볶이\n",
            "오늘 저녁: 순대\n",
            "3\n",
            "6\n",
            "9\n",
            "12\n",
            "15\n",
            "18\n",
            "21\n",
            "24\n",
            "27\n",
            "30\n",
            "33\n",
            "36\n",
            "39\n",
            "42\n",
            "45\n",
            "48\n",
            "10\n",
            "20\n"
          ]
        }
      ]
    },
    {
      "cell_type": "code",
      "source": [
        "print('a', end='')\n",
        "print('b', end='')\n",
        "print()\n",
        "# 이중 for문\n",
        "# 별 찍기 문제\n",
        "#     *\n",
        "#    ***\n",
        "#   *****\n",
        "#  *******\n",
        "# *********\n",
        "\n",
        "for i in range(1, 6):\n",
        "    for j in range(5 - i, 0, -1):\n",
        "        print(' ', end='')\n",
        "    for j in range(1, 2*i):\n",
        "        print('*', end='')\n",
        "    print()\n",
        "\n",
        "for i in range(1, 6):\n",
        "    print(' '*(5-i) + '*'*(2*i-1))"
      ],
      "metadata": {
        "colab": {
          "base_uri": "https://localhost:8080/"
        },
        "id": "a0-D9BC7izFF",
        "outputId": "0d2b404a-e7a2-49ea-9f35-4def4e9b7a30"
      },
      "execution_count": null,
      "outputs": [
        {
          "output_type": "stream",
          "name": "stdout",
          "text": [
            "ab\n",
            "    *\n",
            "   ***\n",
            "  *****\n",
            " *******\n",
            "*********\n",
            "    *\n",
            "   ***\n",
            "  *****\n",
            " *******\n",
            "*********\n"
          ]
        }
      ]
    }
  ]
}