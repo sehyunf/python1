{
  "nbformat": 4,
  "nbformat_minor": 0,
  "metadata": {
    "colab": {
      "provenance": []
    },
    "kernelspec": {
      "name": "python3",
      "display_name": "Python 3"
    },
    "language_info": {
      "name": "python"
    }
  },
  "cells": [
    {
      "cell_type": "markdown",
      "source": [
        "# 기본 자료형(Data Type)\n",
        "| 자료형 | 이름 | 값 |\n",
        "| ----- | ----- | -----|\n",
        "| 숫자 자료형 | int | 양의 정수, 음의 정수, 0, 1, 100, ... |\n",
        "| 숫자 자료형 | float | 소수점이 있는 수, 0.0, 3.14, ... |\n",
        "| 논리 자료형 | bool | 참 또는 거짓, Ture, False, 값이 있을 때 |\n",
        "| 문자열 자료형 | str | 문자열, '', \"\", ... |"
      ],
      "metadata": {
        "id": "COzORLvG5m5E"
      }
    },
    {
      "cell_type": "code",
      "source": [
        "# 정수형(int)\n",
        "# int() : 숫자로 바뀔 수 있는 값을 int로 바꿔주는 함수\n",
        "\n",
        "num1 = 3\n",
        "num2 = int(2.7)\n",
        "num3 = int(\"100\")\n",
        "# type() : 타입을 알려주는 함수\n",
        "print(num1, type(num1))\n",
        "print(num2, type(num2))\n",
        "print(num3, type(num3))"
      ],
      "metadata": {
        "colab": {
          "base_uri": "https://localhost:8080/"
        },
        "id": "I9DZbVR86o60",
        "outputId": "94a7d891-a289-42ac-8837-7b7c6c935603"
      },
      "execution_count": 4,
      "outputs": [
        {
          "output_type": "stream",
          "name": "stdout",
          "text": [
            "3 <class 'int'>\n",
            "2 <class 'int'>\n",
            "100 <class 'int'>\n"
          ]
        }
      ]
    },
    {
      "cell_type": "code",
      "source": [
        "# float() : 실수로 변환시켜주는 함수\n",
        "num4 = 30\n",
        "print(float(num4))\n",
        "print(float(\"31.31\"))"
      ],
      "metadata": {
        "colab": {
          "base_uri": "https://localhost:8080/"
        },
        "id": "aQYhXk879Z5H",
        "outputId": "54a11413-8431-4754-f490-606f7cea47d9"
      },
      "execution_count": 5,
      "outputs": [
        {
          "output_type": "stream",
          "name": "stdout",
          "text": [
            "30.0\n",
            "31.31\n"
          ]
        }
      ]
    },
    {
      "cell_type": "code",
      "source": [
        "# 논리형 : True, False\n",
        "# bool() : 논리형으로 바꿔주는 함수\n",
        "data1 = True\n",
        "data2 = False\n",
        "\n",
        "print(data1, type(data1))\n",
        "\n",
        "data3 = bool(100)\n",
        "data4 = bool(\"ㄱ\")\n",
        "data5 = bool(3.14)\n",
        "\n",
        "data6 = bool(0)\n",
        "data7 = bool(\"\")\n",
        "data8 = bool(0.0)\n",
        "\n",
        "print(data3, data4, data5)\n",
        "print(data6, data7, data8)"
      ],
      "metadata": {
        "colab": {
          "base_uri": "https://localhost:8080/"
        },
        "id": "5WHHwfi497P4",
        "outputId": "c49caa2d-ae1c-4ab7-de5a-4dfbbf104add"
      },
      "execution_count": 11,
      "outputs": [
        {
          "output_type": "stream",
          "name": "stdout",
          "text": [
            "True <class 'bool'>\n",
            "True True True\n",
            "False False False\n"
          ]
        }
      ]
    },
    {
      "cell_type": "code",
      "source": [
        "# number\n",
        "number = 10\n",
        "\n",
        "# 2진수\n",
        "print(bin(number), number)\n",
        "\n",
        "# 8진수\n",
        "print(oct(number), number)\n",
        "\n",
        "# 16진수\n",
        "print(hex(number), number)\n",
        "\n"
      ],
      "metadata": {
        "colab": {
          "base_uri": "https://localhost:8080/"
        },
        "id": "U3-3d3Kq_F7K",
        "outputId": "b3fa7079-785f-4ce7-a5fb-3a6fbf4f3af4"
      },
      "execution_count": 12,
      "outputs": [
        {
          "output_type": "stream",
          "name": "stdout",
          "text": [
            "0b1010 10\n",
            "0o12 10\n",
            "0xa 10\n"
          ]
        }
      ]
    },
    {
      "cell_type": "code",
      "source": [
        "# str() : 문자열로 변경해주는 함수\n",
        "# window + . : 이모지\n",
        "hello = 'Hello, Python!😺'\n",
        "\n",
        "print(hello, type(hello))\n",
        "\n",
        "# 인덱싱\n",
        "print(hello[7])\n",
        "\n",
        "# 느낌표 인덱싱\n",
        "print(hello[13])\n",
        "print(hello[-2])\n",
        "\n",
        "# 문자열 슬라이싱\n",
        "# : 클론\n",
        "print(hello[7:12]) # 마지막을 포함하지 않는다.\n",
        "print(hello[7:13])\n",
        "\n",
        "num = \"123456789\"\n",
        "# [시작인덱스:종료인덱스:스텝]\n",
        "print(num[1::2])\n",
        "\n",
        "#응용\n",
        "# num를 반대로 출력하기\n",
        "# ex) 987654321\n",
        "\n",
        "print(num[len(num)::-1])\n",
        "\n",
        "print(len(num))"
      ],
      "metadata": {
        "colab": {
          "base_uri": "https://localhost:8080/"
        },
        "id": "0WRsTzt1Ax8S",
        "outputId": "942ae493-912a-4b00-d421-5bc8dd3e7684"
      },
      "execution_count": 38,
      "outputs": [
        {
          "output_type": "stream",
          "name": "stdout",
          "text": [
            "Hello, Python!😺 <class 'str'>\n",
            "P\n",
            "!\n",
            "!\n",
            "Pytho\n",
            "Python\n",
            "2468\n",
            "987654321\n",
            "9\n"
          ]
        }
      ]
    }
  ]
}