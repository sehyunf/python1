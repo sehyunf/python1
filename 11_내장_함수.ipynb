{
  "nbformat": 4,
  "nbformat_minor": 0,
  "metadata": {
    "colab": {
      "provenance": []
    },
    "kernelspec": {
      "name": "python3",
      "display_name": "Python 3"
    },
    "language_info": {
      "name": "python"
    }
  },
  "cells": [
    {
      "cell_type": "code",
      "execution_count": 7,
      "metadata": {
        "colab": {
          "base_uri": "https://localhost:8080/"
        },
        "id": "dmCfb9dDtFn_",
        "outputId": "1041d8e5-b381-4e10-e41c-36d0a2bff74a"
      },
      "outputs": [
        {
          "output_type": "stream",
          "name": "stdout",
          "text": [
            "a\n",
            "84\n",
            "Ⳝ✏ⱹⳜዳፖᎹᐜ"
          ]
        }
      ],
      "source": [
        "# 문자열 내장함수\n",
        "\n",
        "# chr(): 유니코드 -> 문자\n",
        "print(chr(97))\n",
        "\n",
        "# ord(): 문자 -> 유니코드\n",
        "print(ord('T'))\n",
        "\n",
        "password = \"test1234\"\n",
        "for i in password:\n",
        "    print(chr(ord(i) * 99), end='')"
      ]
    },
    {
      "cell_type": "code",
      "source": [
        "# str()\n",
        "# format()\n",
        "print(format(10000000, ','))\n",
        "print(format(10000000, '_'))\n",
        "\n",
        "# eval(): 실행하고자 하는 표현식(expression)을 문자열로 전달하면 결과를 반환\n",
        "print(\"10 * 2\")\n",
        "print(eval(\"10 * 2\"))"
      ],
      "metadata": {
        "colab": {
          "base_uri": "https://localhost:8080/"
        },
        "id": "1NDTr8iAuMXb",
        "outputId": "5c128ca0-445e-44dc-d301-cc0244084316"
      },
      "execution_count": 10,
      "outputs": [
        {
          "output_type": "stream",
          "name": "stdout",
          "text": [
            "10,000,000\n",
            "10_000_000\n",
            "10 * 2\n",
            "20\n"
          ]
        }
      ]
    },
    {
      "cell_type": "code",
      "source": [
        "# 숫자의 내장함수\n",
        "# abs() : 전달된 인수(정수 또는 실수)의 절대값을 반환\n",
        "print(abs(-15))\n",
        "print(abs(3.3))\n",
        "\n",
        "# divmod(값1, 값2): 몫과 나머지를 한 쌍으로 반환\n",
        "print(10 // 3)\n",
        "print(10 % 3)\n",
        "print(divmod(10, 3))\n",
        "\n",
        "# float(), int(), max(), min(), sum()\n",
        "# round() : 전달된 인수를 이용해 반올림한 값을 반환\n",
        "print(round(1.518111, 2))\n",
        "print(round(2.6))\n",
        "\n",
        "print(round(2.5))\n",
        "print(round(3.5))\n",
        "# 일반적인 반올림은 사사오입이지만 파이썬에서는 오사오입을 한다.\n",
        "\n",
        "# 프로그래밍의 한계 : 실수의 오류\n",
        "print(10/3)"
      ],
      "metadata": {
        "colab": {
          "base_uri": "https://localhost:8080/"
        },
        "id": "kPrTaakowhfO",
        "outputId": "5fe356c1-f15e-48c0-82ad-9d2399423499"
      },
      "execution_count": 23,
      "outputs": [
        {
          "output_type": "stream",
          "name": "stdout",
          "text": [
            "15\n",
            "3.3\n",
            "3\n",
            "1\n",
            "(3, 1)\n",
            "1.52\n",
            "3\n",
            "2\n",
            "4\n",
            "3.3333333333333335\n"
          ]
        }
      ]
    },
    {
      "cell_type": "code",
      "source": [
        "# 시퀀스 내장함수\n",
        "# enumerate()\n",
        "li1 = [i * 10 for i in range(1, 11)]\n",
        "print(li1)\n",
        "\n",
        "for idx, value in enumerate(li1):\n",
        "    print(idx, value)\n",
        "\n",
        "# zip()\n",
        "names = ['김철수', '김영희', '흰둥이', '신짱구']\n",
        "scores = [100, 60, 5, 85]\n",
        "\n",
        "for name, score in zip(names, scores):\n",
        "    print(f\"{name}의 시험점수: {score}점\")\n",
        "\n",
        "# sorted()\n",
        "sorted(names)"
      ],
      "metadata": {
        "colab": {
          "base_uri": "https://localhost:8080/"
        },
        "id": "ByKkZnjc0Mur",
        "outputId": "453aced5-5004-47f2-b0b9-6e2cbd011ae4"
      },
      "execution_count": 29,
      "outputs": [
        {
          "output_type": "stream",
          "name": "stdout",
          "text": [
            "[10, 20, 30, 40, 50, 60, 70, 80, 90, 100]\n",
            "0 10\n",
            "1 20\n",
            "2 30\n",
            "3 40\n",
            "4 50\n",
            "5 60\n",
            "6 70\n",
            "7 80\n",
            "8 90\n",
            "9 100\n",
            "김철수의 시험점수: 100점\n",
            "김영희의 시험점수: 60점\n",
            "흰둥이의 시험점수: 5점\n",
            "신짱구의 시험점수: 85점\n"
          ]
        },
        {
          "output_type": "execute_result",
          "data": {
            "text/plain": [
              "['김영희', '김철수', '신짱구', '흰둥이']"
            ]
          },
          "metadata": {},
          "execution_count": 29
        }
      ]
    },
    {
      "cell_type": "code",
      "source": [
        "# 문자열의 메서드\n",
        "# .count(찾을 값) : 문자열 내부에서 특정 문자의 개수를 반환\n",
        "str1 = \"apple\"\n",
        "print(str1.count('p'))\n",
        "print('p' in str1)\n",
        "\n",
        "# .find(찾을 값) : 문자열 내부에 특정 문자의 인덱스를 반환\n",
        "# 만약 값이 여러 개라면 먼저 만나는 인덱스를 반환\n",
        "print(str1.find('p'))\n",
        "\n",
        "# .upper(), lower()\n",
        "# .capitalize() : 앞문자 대문자로 변경\n",
        "print(\"japan\".capitalize())\n",
        "\n",
        "# .join(): 반복 가능한 객체를 연결한 결과를 반환\n",
        "li2 = ['가', '나', '다', '마']\n",
        "print(\" \".join(li2))\n",
        "\n",
        "# li3 = [10, 20, 30, 40] 정수는 오류\n",
        "# print(\"\".join(li3))\n",
        "\n",
        "# .split(구분자)\n",
        "print(\"010-7788-1122\".split('-'))\n",
        "print(\"\".join(\"010-7788-1122\".split(\"-\")))\n",
        "\n",
        "# .replace(찾을 값, 대체 값)\n",
        "print(\"홍길동\".replace('홍', '김'))\n",
        "\n",
        "# isdigit() : 정수가 있는지 확인\n",
        "# isalpha() : 알파벳이 있는지 확인\n",
        "num = input(\"정수를 입력하세요\")\n",
        "\n",
        "if num.isdigit():\n",
        "    print(\"정수입니다.\")\n",
        "else:\n",
        "    print(\"정수가 아닙니다.\")\n",
        "\n",
        "# .strip() : 공백제거\n",
        "# .lstrip() : 왼쪽 공백제거\n",
        "# .rstrip() : 오른쪽 공백제거\n",
        "\n",
        "print(\"                    10점\".strip())"
      ],
      "metadata": {
        "colab": {
          "base_uri": "https://localhost:8080/"
        },
        "id": "6iJpYt901L8_",
        "outputId": "f1d994a4-50cf-4303-f3cd-2e2c547f5b7c"
      },
      "execution_count": 44,
      "outputs": [
        {
          "output_type": "stream",
          "name": "stdout",
          "text": [
            "2\n",
            "True\n",
            "1\n",
            "Japan\n",
            "가 나 다 마\n",
            "['010', '7788', '1122']\n",
            "01077881122\n",
            "김길동\n",
            "정수를 입력하세요wk\n",
            "정수가 아닙니다.\n",
            "10점\n"
          ]
        }
      ]
    }
  ]
}