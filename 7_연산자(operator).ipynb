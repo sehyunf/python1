{
  "nbformat": 4,
  "nbformat_minor": 0,
  "metadata": {
    "colab": {
      "provenance": []
    },
    "kernelspec": {
      "name": "python3",
      "display_name": "Python 3"
    },
    "language_info": {
      "name": "python"
    }
  },
  "cells": [
    {
      "cell_type": "code",
      "execution_count": 1,
      "metadata": {
        "colab": {
          "base_uri": "https://localhost:8080/"
        },
        "id": "TyNMJfWAHGxd",
        "outputId": "4b2a9c73-4746-4b6d-c1a4-3426c84305c5"
      },
      "outputs": [
        {
          "output_type": "stream",
          "name": "stdout",
          "text": [
            "3\n",
            "6\n"
          ]
        }
      ],
      "source": [
        "print(15 % 4) # 나머지 3\n",
        "print(20 // 3) # 몫 6"
      ]
    },
    {
      "cell_type": "code",
      "source": [
        "# 내가 가진 돈\n",
        "money = 1000000\n",
        "\n",
        "# 노트북 구매\n",
        "notebook = 100000\n",
        "\n",
        "money = money - notebook\n",
        "\n",
        "# 누적복합연산자\n",
        "money -= notebook\n",
        "\n",
        "print(money)"
      ],
      "metadata": {
        "colab": {
          "base_uri": "https://localhost:8080/"
        },
        "id": "TXdv6uA4IWGF",
        "outputId": "35cf0d7a-58ec-412e-e035-23a7f2fe45cc"
      },
      "execution_count": 2,
      "outputs": [
        {
          "output_type": "stream",
          "name": "stdout",
          "text": [
            "800000\n"
          ]
        }
      ]
    },
    {
      "cell_type": "code",
      "source": [
        "# 1. 사용자에게 최초 금액을 입력받기\n",
        "message = '잔고를 입력하세요\\n'\n",
        "money = int(input(message))\n",
        "# 2. 일을 해서 번 돈을 여러분의 지갑에 누적복합 연산자로 반영시키기\n",
        "work = 100000\n",
        "money += work\n",
        "\n",
        "# 3. 폰을 구매했습니다. 폰을 구매한 가격만큼 누적복합 연산자로 반영시키기\n",
        "phone = 30000\n",
        "money -= phone\n",
        "\n",
        "# 4. 최종 금액을 출력하기 (f-string)\n",
        "# ex) 저의 지갑의 잔고는 oooo원입니다.\n",
        "print(f'저의 지갑의 잔고는 {money}원 입니다.')"
      ],
      "metadata": {
        "colab": {
          "base_uri": "https://localhost:8080/"
        },
        "id": "d4mae3eyJlw0",
        "outputId": "a4cc427c-a00d-47fe-9cea-c51ecf5fae82"
      },
      "execution_count": 2,
      "outputs": [
        {
          "output_type": "stream",
          "name": "stdout",
          "text": [
            "잔고를 입력하세요\n",
            "1000000\n",
            "저의 지갑의 잔고는 1070000원 입니다.\n"
          ]
        }
      ]
    },
    {
      "cell_type": "code",
      "source": [
        "print(3 << 2)\n",
        "print(60 >> 1)"
      ],
      "metadata": {
        "colab": {
          "base_uri": "https://localhost:8080/"
        },
        "id": "bb-yrXUgNpLA",
        "outputId": "af45d29c-8879-4c57-d6ab-1807774a04ac"
      },
      "execution_count": 5,
      "outputs": [
        {
          "output_type": "stream",
          "name": "stdout",
          "text": [
            "12\n",
            "30\n"
          ]
        }
      ]
    }
  ]
}