{
  "nbformat": 4,
  "nbformat_minor": 0,
  "metadata": {
    "colab": {
      "provenance": []
    },
    "kernelspec": {
      "name": "python3",
      "display_name": "Python 3"
    },
    "language_info": {
      "name": "python"
    }
  },
  "cells": [
    {
      "cell_type": "code",
      "execution_count": 2,
      "metadata": {
        "colab": {
          "base_uri": "https://localhost:8080/"
        },
        "id": "SE9rL2FyHgAa",
        "outputId": "403ba62b-49d6-432b-f61b-85f50d404b36"
      },
      "outputs": [
        {
          "output_type": "stream",
          "name": "stdout",
          "text": [
            "토토\n",
            "강아지\n"
          ]
        }
      ],
      "source": [
        "class Animal:\n",
        "\n",
        "    #초기화 생성자\n",
        "    def __init__(self, name, age):\n",
        "        self.name = name\n",
        "        self.age = age\n",
        "\n",
        "    def canSpeak(self):\n",
        "        print(\"\")\n",
        "\n",
        "# 객체화 코드\n",
        "rabbit = Animal(\"토토\", 2)\n",
        "dog = Animal(\"강아지\", 10)\n",
        "\n",
        "print(rabbit.name)\n",
        "print(dog.name)"
      ]
    },
    {
      "cell_type": "code",
      "source": [
        "# 카페 클래스 만들기\n",
        "# 대표메뉴, 가격, 브랜드(생성자로 초기화)\n",
        "# 메서드, 저희 브랜드의 대표 메뉴는 ooo, 가격은 ooo원 입니다.\n",
        "\n",
        "class Cafe:\n",
        "    def __init__(self, menu, price, brand):\n",
        "        self.menu = menu\n",
        "        self.price = price\n",
        "        self.brand = brand\n",
        "\n",
        "    def introduce(self):\n",
        "        print(f\"저희 {self.brand}의 대표 메뉴는 {self.menu}, 가격은 {self.price}원 입니다.\")\n",
        "\n",
        "cafeA = Cafe(\"아메리카노\", 3000, \"스타벅스\")\n",
        "cafeA.introduce()\n",
        "\n",
        "cafeB = Cafe(\"카페라떼\", 4000, \"커피빈\")\n",
        "cafeB.introduce()"
      ],
      "metadata": {
        "colab": {
          "base_uri": "https://localhost:8080/"
        },
        "id": "UsNrtFWRODmx",
        "outputId": "2dca4994-2ad6-4cb1-c914-007ec51ff6b1"
      },
      "execution_count": 4,
      "outputs": [
        {
          "output_type": "stream",
          "name": "stdout",
          "text": [
            "저희 스타벅스의 대표 메뉴는 아메리카노, 가격은 3000원 입니다.\n",
            "저희 커피빈의 대표 메뉴는 카페라떼, 가격은 4000원 입니다.\n"
          ]
        }
      ]
    },
    {
      "cell_type": "code",
      "source": [
        "# 마켓 클래스 생성\n",
        "# 토마토 판매중, 토마토의 가격은 3000원\n",
        "# def sell\n",
        "\n",
        "# User1, User2, User3 클래스 생성\n",
        "# 각각 사용자마다 다른 할인율을 가지고 있다\n",
        "# User1 5%, User2 10%, User3 25%\n",
        "# 각각 유저는  10_000원을 가지고 있으며\n",
        "# 유저의 할인율을 적용받아 마켓에서 토마토를 구매 후 잔액을 출력\n",
        "\n",
        "class Market:\n",
        "    def __init__(self, name, tomato_price):\n",
        "        self.name = name\n",
        "        self.tomato_price = tomato_price\n",
        "\n",
        "    def sell(self, user):\n",
        "        user.money -= int(self.tomato_price * (1 - user.discount))\n",
        "\n",
        "my_market = Market(\"이마트\", 3000)\n",
        "\n",
        "class User1:\n",
        "    nest_egg = 10000\n",
        "\n",
        "    def __init__(self, name, money, discount):\n",
        "        self.name = name\n",
        "        self.money = money\n",
        "        self.discount = discount / 100\n",
        "\n",
        "    @classmethod\n",
        "    def my_nest_egg(cls):\n",
        "        print(f\"비상금: {cls.nest_egg}\")\n",
        "\n",
        "hong = User1(\"홍길동\", 10000, 5)\n",
        "\n",
        "my_market.sell(hong)\n",
        "\n",
        "print(hong.money)\n",
        "\n",
        "User1.my_nest_egg()"
      ],
      "metadata": {
        "colab": {
          "base_uri": "https://localhost:8080/"
        },
        "id": "DiLVPlDHPv9t",
        "outputId": "b571d363-53ea-42b0-b744-f0eea2a3a2a4"
      },
      "execution_count": 9,
      "outputs": [
        {
          "output_type": "stream",
          "name": "stdout",
          "text": [
            "7150\n",
            "비상금: 10000\n"
          ]
        }
      ]
    }
  ]
}