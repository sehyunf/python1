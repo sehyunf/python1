{
  "nbformat": 4,
  "nbformat_minor": 0,
  "metadata": {
    "colab": {
      "provenance": []
    },
    "kernelspec": {
      "name": "python3",
      "display_name": "Python 3"
    },
    "language_info": {
      "name": "python"
    }
  },
  "cells": [
    {
      "cell_type": "code",
      "execution_count": 3,
      "metadata": {
        "colab": {
          "base_uri": "https://localhost:8080/"
        },
        "id": "SMswQvOYfNHr",
        "outputId": "41b65f75-03d9-4ef9-d4bc-e33ab20184fd"
      },
      "outputs": [
        {
          "output_type": "stream",
          "name": "stdout",
          "text": [
            "나\n",
            "True\n"
          ]
        }
      ],
      "source": [
        "def print_value(value):\n",
        "    print(value)\n",
        "\n",
        "print_value(\"나\")\n",
        "print_value(True)"
      ]
    },
    {
      "cell_type": "code",
      "source": [
        "# 1. 두 수를 전달하면 두 수를 더해주는 함수\n",
        "def add_numbers(num1, num2):\n",
        "    return num1 + num2\n",
        "\n",
        "result = add_numbers(5, 3)\n",
        "print(result)\n",
        "\n",
        "# 2. 성과 이름을 전달하면 전체이름을 콘솔에 출력해주는 함수\n",
        "def print_name(first_name, last_name):\n",
        "    full_name = first_name + last_name\n",
        "    print(full_name)\n",
        "\n",
        "print_name(\"홍\",\"길동\")"
      ],
      "metadata": {
        "colab": {
          "base_uri": "https://localhost:8080/"
        },
        "id": "qJXRZLTZhkje",
        "outputId": "fb3fd905-1e5f-4a62-be4d-2cc1e23f387b"
      },
      "execution_count": 6,
      "outputs": [
        {
          "output_type": "stream",
          "name": "stdout",
          "text": [
            "8\n",
            "홍길동\n"
          ]
        }
      ]
    },
    {
      "cell_type": "code",
      "source": [
        "# 가변인자(*)\n",
        "def add(*number):\n",
        "    total = 0\n",
        "    for i in number:\n",
        "        total += i\n",
        "    return total\n",
        "    # return sum(number)\n",
        "\n",
        "print(add(1,2,3,4,5))"
      ],
      "metadata": {
        "colab": {
          "base_uri": "https://localhost:8080/"
        },
        "id": "zC3-Ke3tnP98",
        "outputId": "aa86c894-0648-43a3-8062-3f9a9704fbb1"
      },
      "execution_count": 8,
      "outputs": [
        {
          "output_type": "stream",
          "name": "stdout",
          "text": [
            "15\n",
            "15\n"
          ]
        }
      ]
    },
    {
      "cell_type": "code",
      "source": [
        "# 1. 이름을 다섯 번 출력해주는 함수\n",
        "def print_name5(name):\n",
        "    for i in range(5):\n",
        "        print(name)\n",
        "\n",
        "print_name5(\"홍길동\")\n",
        "\n",
        "# 2. 이름을 전달하면 n번 출력해주는 함수\n",
        "def print_name_n(name, n):\n",
        "    for i in range(n):\n",
        "        print(name)\n",
        "\n",
        "print_name_n(\"장보고\", 3)\n",
        "\n",
        "# 3. 어떤 값을 전달하면 실수인지, 정수인지 확인해주는 함수\n",
        "def check_type(value):\n",
        "    if isinstance(value, int):\n",
        "        print(\"정수입니다.\")\n",
        "    elif isinstance(value, float):\n",
        "        print(\"실수입니다.\")\n",
        "    else:\n",
        "        print(\"정수도 실수도 아닙니다.\")\n",
        "\n",
        "check_type(1)\n",
        "check_type(1.2)\n",
        "check_type(\"ㄱ\")\n",
        "\n",
        "# 4. 사용자가 0,1,0,0,1,0,1,0,1 임의로 0과 1을 전달하면 0의 개수와, 1의 개수를 알려주는 함수\n",
        "def count_zeros_ones(*numbers):\n",
        "    zero_count = 0\n",
        "    one_count = 0\n",
        "    for number in numbers:\n",
        "        if number == 0:\n",
        "            zero_count += 1\n",
        "        elif number == 1:\n",
        "            one_count += 1\n",
        "    print(\"0의 개수:\", zero_count)\n",
        "    print(\"1의 개수:\", one_count)\n",
        "\n",
        "count_zeros_ones(0,1,0,0,1,0,1,0,1)"
      ],
      "metadata": {
        "colab": {
          "base_uri": "https://localhost:8080/"
        },
        "id": "lQi-r8VGno5b",
        "outputId": "1b56afa8-14b4-415a-84e6-abad3f21ac40"
      },
      "execution_count": 17,
      "outputs": [
        {
          "output_type": "stream",
          "name": "stdout",
          "text": [
            "홍길동\n",
            "홍길동\n",
            "홍길동\n",
            "홍길동\n",
            "홍길동\n",
            "장보고\n",
            "장보고\n",
            "장보고\n",
            "정수입니다.\n",
            "실수입니다.\n",
            "정수도 실수도 아닙니다.\n",
            "0의 개수: 5\n",
            "1의 개수: 4\n"
          ]
        }
      ]
    },
    {
      "cell_type": "code",
      "source": [
        "# 1. 5개의 정수를 입력받고,\n",
        "# 최솟값과 최댓값을 구해주는 함수(반환)\n",
        "# 단, min(), max()를 사용하지 않는다.\n",
        "\n",
        "def find_min_max(num1, num2, num3, num4, num5):\n",
        "    min_value = num1\n",
        "    max_value = num1\n",
        "\n",
        "    for num in [num2, num3, num4, num5]:\n",
        "        if num < min_value:\n",
        "            min_value = num\n",
        "        if num > max_value:\n",
        "            max_value = num\n",
        "\n",
        "    return min_value, max_value\n",
        "\n",
        "min_value, max_value = find_min_max(5, 2, 9, 1, 7)\n",
        "print(\"최솟값:\", min_value)\n",
        "print(\"최댓값:\", max_value)"
      ],
      "metadata": {
        "colab": {
          "base_uri": "https://localhost:8080/"
        },
        "id": "vzr9FjyJsx8p",
        "outputId": "c526db74-ee47-4d0c-ef02-a3a7ddb3d1b3"
      },
      "execution_count": 18,
      "outputs": [
        {
          "output_type": "stream",
          "name": "stdout",
          "text": [
            "최솟값: 1\n",
            "최댓값: 9\n"
          ]
        }
      ]
    },
    {
      "cell_type": "code",
      "source": [
        "# 2. 문자열을 입력하면 소문자를 대문자로\n",
        "# 대문자를 소문자로 바꿔주는 함수(반환)\n",
        "# 단, .swapcase()를 사용하지 않는다.\n",
        "\n",
        "def swap_case(string):\n",
        "    result = \"\"\n",
        "    for char in string:\n",
        "        if char.islower():\n",
        "            result += char.upper()\n",
        "        elif char.isupper():\n",
        "            result += char.lower()\n",
        "        else:\n",
        "            result += char\n",
        "\n",
        "    return result\n",
        "\n",
        "swapped_string = swap_case(\"Hello World\")\n",
        "print(swapped_string)\n",
        "\n",
        "def swap_case2(string):\n",
        "    result = \"\"\n",
        "    for char in string:\n",
        "        if char >= 'a' and char <= 'z':\n",
        "            result += char.upper()\n",
        "        elif char >= 'A' and char <= 'Z':\n",
        "            result += char.lower()\n",
        "        else:\n",
        "            result += char\n",
        "\n",
        "    return result\n",
        "\n",
        "swapped_string = swap_case2(\"Hello World\")\n",
        "print(swapped_string)"
      ],
      "metadata": {
        "colab": {
          "base_uri": "https://localhost:8080/"
        },
        "id": "hW8oJWDntDeY",
        "outputId": "bc7c1fa9-28d9-4b72-d580-b569e4104c1d"
      },
      "execution_count": 22,
      "outputs": [
        {
          "output_type": "stream",
          "name": "stdout",
          "text": [
            "hELLO wORLD\n",
            "hELLO wORLD\n"
          ]
        }
      ]
    },
    {
      "cell_type": "code",
      "source": [
        "# 3. 한글을 정수로 변경해주는 함수\n",
        "# ex) \"일공이사\" -> 1024\n",
        "\n",
        "def change_integer(string):\n",
        "    hangle = {'공': 0, '일': 1, '이': 2, '삼': 3, '사': 4, '오': 5, '육': 6, '칠': 7, '팔': 8, '구': 9}\n",
        "    result = \"\"\n",
        "    for char in string:\n",
        "        if char in hangle:\n",
        "            result += str(hangle[char])\n",
        "    return int(result)\n",
        "\n",
        "result = change_integer(\"일공이사\")\n",
        "print(result)"
      ],
      "metadata": {
        "colab": {
          "base_uri": "https://localhost:8080/"
        },
        "id": "vHiFGmpptRvj",
        "outputId": "1950206d-968b-4217-b35c-fcdc6430c6a2"
      },
      "execution_count": 23,
      "outputs": [
        {
          "output_type": "stream",
          "name": "stdout",
          "text": [
            "1024\n"
          ]
        }
      ]
    },
    {
      "cell_type": "code",
      "source": [
        "# 4. 정수를 한글로 변경해주는 함수\n",
        "# ex) \"1024\" -> \"일공이사\"\n",
        "def change_hangle(number):\n",
        "    hangle = \"공일이삼사오육칠팔구\"\n",
        "    result = \"\"\n",
        "    for index in number:\n",
        "        result += str(hangle[int(index)])\n",
        "    return result\n",
        "\n",
        "result = change_hangle(\"1024\")\n",
        "print(result)"
      ],
      "metadata": {
        "colab": {
          "base_uri": "https://localhost:8080/"
        },
        "id": "NnKALU7rtY2u",
        "outputId": "ad63692e-b6cf-4d0b-b4e1-799bc99a3829"
      },
      "execution_count": 24,
      "outputs": [
        {
          "output_type": "stream",
          "name": "stdout",
          "text": [
            "일공이사\n"
          ]
        }
      ]
    }
  ]
}