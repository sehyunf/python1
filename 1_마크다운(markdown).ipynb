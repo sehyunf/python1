{
  "nbformat": 4,
  "nbformat_minor": 0,
  "metadata": {
    "colab": {
      "provenance": []
    },
    "kernelspec": {
      "name": "python3",
      "display_name": "Python 3"
    },
    "language_info": {
      "name": "python"
    }
  },
  "cells": [
    {
      "cell_type": "markdown",
      "source": [
        "#마크다운(Markdown)\n",
        "    - 일반 텍스트 기반의 경략 마크업 언어로 웹 표준이 아닌 언어이다.\n",
        "    마크업 언어란, 태그 등을 이용하여 문서나 데이터의 구조 등을 기술하며, 텍스트 만으로 서식이 있는 문서들을 작성할 때 자주 사용한다.\n",
        "    간단한 HTML 드으이 서식 문서들을 작성할 때 자주 사용한다.\n",
        "\n",
        "# 목차(header)\n",
        "# : h1\n",
        "## : h2\n",
        "### : h3\n",
        "#### : h4\n",
        "##### : h5\n",
        "###### : h6"
      ],
      "metadata": {
        "id": "ZSQeHjjdr0Qu"
      }
    },
    {
      "cell_type": "markdown",
      "source": [
        "## 리스트(List)\n",
        "1. 장점\n",
        "    - 간편하고 쉽다.\n",
        "    - 다양한 플랫폼에서 지원한다.\n",
        "2. 단점\n",
        "    - 표준이 아니다.\n",
        "    - 표현매체마다 다르게 보인다.\n",
        "    - 모든 HTML을 대체하지 못하는 단점을 가진다."
      ],
      "metadata": {
        "id": "80XW3fRCs7L2"
      }
    },
    {
      "cell_type": "markdown",
      "source": [
        "<br />: 줄바꿈(line break)\n",
        "- 파이썬은 1989년 12월 네덜란드 컴퓨터 과학자 <br /> 귀도 반 로섬이 개발하였다.\n",
        "\n",
        "*내용* : 글자 기울이기(italic)\n",
        "- 파이썬은 귀도 반 로섬이 *좋아하는 코미디언의 이름*을 따서 만든 이름이다.\n",
        "\n",
        "**내용**: 글자를 굵게(bold)\n",
        "- 파이썬의 로고는 **그리스 로마 신화의 뱀**을 의미하여 생긴 로고이다.\n",
        "\n",
        "~~내용~~: 취소선(line through)\n",
        "- ~~C언어~~로 2년 걸린 프로젝트를 파이썬으로 한 달만에 마무리했다.\n",
        "\n",
        "<sup>내용</sup>: 위 첨자\n",
        "- o(nlog<sup>2</sup>)\n",
        "\n",
        "<sub>내용</sub>: 아래 첨자\n",
        "- o(nlog<sub>2</sub>)\n",
        "\n",
        "`내용`: 강조(back tick)\n",
        "- `내용을 강조해보자!😺😸`\n",
        "\n",
        "[] : 대괄호(브레이킷)<br />\n",
        "{} : 중괄호(컬리 브레이스)<br />\n",
        "() : 소괄호<br />"
      ],
      "metadata": {
        "id": "fmCSIOGqtTqd"
      }
    },
    {
      "cell_type": "markdown",
      "source": [
        "## 링크\n",
        "- [구글](주소)\n",
        "- [구글](https://www.google.com)\n",
        "\n",
        "## 이미지\n",
        "- ![고양이](이미지 주소)\n",
        "- ![고양이](https://encrypted-tbn2.gstatic.com/images?q=tbn:ANd9GcR1C0XX0G2NSOp5mmXPK6gwcRaZdCdmm3AQopYkwtzWCqfsv_VN06S8YeJZKyT7CnEmqo286gVeCHSUI2T3h7Z3zA)\n",
        "\n",
        "- <img src='https://encrypted-tbn2.gstatic.com/images?q=tbn:ANd9GcR1C0XX0G2NSOp5mmXPK6gwcRaZdCdmm3AQopYkwtzWCqfsv_VN06S8YeJZKyT7CnEmqo286gVeCHSUI2T3h7Z3zA' width='200' />\n",
        "\n"
      ],
      "metadata": {
        "id": "EZacWHN7vhiz"
      }
    },
    {
      "cell_type": "markdown",
      "source": [
        "## 테이블(table)\n",
        "\n",
        "|번호|이름|내용|\n",
        "|----|----|----|\n",
        "|001|홍길동|A|\n",
        "|002|장보고|B|\n",
        "|003|이순신|C|\n",
        "\n",
        "## 리스트(list)\n",
        "1. 목록의 구분\n",
        "    1. 순서가 있는 목록(ordered list)\n",
        "    2. 순서가 없는 목록(unordered list)\n",
        "\n",
        "---\n",
        "\n",
        "- 순서가 없는 목록\n",
        "    - 들여쓰기로 하위 목록을 구분지을 수 있다.\n",
        "    + 각 기호에 따라 표현되는 것이 다르지 않다.\n",
        "    * (-, *, +) 기호를 자유롭게 사용할 수 있다.\n"
      ],
      "metadata": {
        "id": "W4gji4smwuBE"
      }
    }
  ]
}