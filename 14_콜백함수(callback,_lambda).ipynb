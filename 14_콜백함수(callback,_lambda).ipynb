{
  "nbformat": 4,
  "nbformat_minor": 0,
  "metadata": {
    "colab": {
      "provenance": []
    },
    "kernelspec": {
      "name": "python3",
      "display_name": "Python 3"
    },
    "language_info": {
      "name": "python"
    }
  },
  "cells": [
    {
      "cell_type": "markdown",
      "source": [
        "# 콜백함수(callback)\n",
        "    - 다른 함수가 실행을 끝낸 뒤 실행 수의 callback되는 함수를 의미하며,\n",
        "      함수의 실행 결과를 받아 처리하기 위해 사용되는 익명함수 이다."
      ],
      "metadata": {
        "id": "9QKf-8Ng0bvt"
      }
    },
    {
      "cell_type": "code",
      "source": [
        "# 두 수를 더해서 출력하는 함수\n",
        "def sum(num1, num2, callback):\n",
        "    return callback(num1 + num2)\n",
        "\n",
        "def add(result):\n",
        "    return result + 10\n",
        "\n",
        "sum(10, 20, print)\n",
        "\n",
        "print(sum(10, 20, add))"
      ],
      "metadata": {
        "colab": {
          "base_uri": "https://localhost:8080/"
        },
        "id": "niiAurr72LV3",
        "outputId": "03eb96ba-d99c-49ca-c44c-03de146f9c02"
      },
      "execution_count": 4,
      "outputs": [
        {
          "output_type": "stream",
          "name": "stdout",
          "text": [
            "30\n",
            "40\n"
          ]
        }
      ]
    },
    {
      "cell_type": "code",
      "source": [
        "# 성과 이름을 받아서 출력하는 함수\n",
        "def get_fullname(first_name, last_name, callback):\n",
        "    callback(first_name + last_name)\n",
        "\n",
        "get_fullname(\"홍\", \"길동\", print)"
      ],
      "metadata": {
        "colab": {
          "base_uri": "https://localhost:8080/"
        },
        "id": "woUMbCl23Fok",
        "outputId": "34984108-8cfd-4293-d6cc-7a990c316bc0"
      },
      "execution_count": 5,
      "outputs": [
        {
          "output_type": "stream",
          "name": "stdout",
          "text": [
            "홍길동\n"
          ]
        }
      ]
    },
    {
      "cell_type": "code",
      "source": [
        "# 이름을 다섯 번 출력하는 함수\n",
        "def repeat_five_times(name, callback):\n",
        "    for i in range(5):\n",
        "        callback(name)\n",
        "\n",
        "repeat_five_times(\"홍길동\", print)"
      ],
      "metadata": {
        "colab": {
          "base_uri": "https://localhost:8080/"
        },
        "id": "AFr6mSjW4WUQ",
        "outputId": "db93ebf0-64d6-4bb1-d28d-0fe6133cb5f6"
      },
      "execution_count": 6,
      "outputs": [
        {
          "output_type": "stream",
          "name": "stdout",
          "text": [
            "홍길동\n",
            "홍길동\n",
            "홍길동\n",
            "홍길동\n",
            "홍길동\n"
          ]
        }
      ]
    },
    {
      "cell_type": "code",
      "source": [
        "# 값을 전달받으면 2제곱 후 출력\n",
        "# (함수, 콜백함수)\n",
        "def get_square(num, callback):\n",
        "    callback(num * num)\n",
        "    callback(num ** 2)\n",
        "\n",
        "get_square(10, print)\n",
        "get_square(25, print)"
      ],
      "metadata": {
        "colab": {
          "base_uri": "https://localhost:8080/"
        },
        "id": "hvh2ciSX4lwg",
        "outputId": "6d898d67-ec08-43ca-9ce1-5e066cb707e4"
      },
      "execution_count": 12,
      "outputs": [
        {
          "output_type": "stream",
          "name": "stdout",
          "text": [
            "100\n",
            "100\n",
            "625\n",
            "625\n"
          ]
        }
      ]
    },
    {
      "cell_type": "markdown",
      "source": [
        "# 람다 함수\n",
        "- 단일문으로 표현되는 익명함수이며, 코드상에서 한 번만 사용되는 기능이 있을 때 또는 굳이 함수를 만들지 않고 일회성으로 사용될 때 사용하는 문법이다.\n",
        "- 람다식은 return 키워드가 없기 때문에 모든 값이 return되며, return키워드가 필요하다면 일반 함수로 작성 해야 한다.\n",
        "\n",
        "- 람다함수\n",
        "- lambda    변수명:    실행로직\n",
        "- lambda    x:         x * 3\n",
        "- [예약어]  [매개변수]    [함수 선언부]\n",
        "\n",
        "pow = lambda x : x ** 3\n",
        "pow(3)\n",
        "\n",
        "- 람다의 즉시 사용: ()()\n",
        "(lambda x: x ** 3)(10)"
      ],
      "metadata": {
        "id": "k32u1PtM5z4W"
      }
    },
    {
      "cell_type": "code",
      "source": [
        "# 두 수를 더해서 출력하는 람다함수\n",
        "result = (lambda x, y: x + y)(10, 20)\n",
        "\n",
        "# 즉시 실행\n",
        "(lambda x, y, callback: callback(x + y))(10, 20, print)\n",
        "\n",
        "multiple = lambda num1, num2: num1 * num2\n",
        "print(multiple(10, 20))"
      ],
      "metadata": {
        "colab": {
          "base_uri": "https://localhost:8080/"
        },
        "id": "Y3ctI6596vi_",
        "outputId": "9748b0da-2ea2-4e25-d18d-b07ce11d485e"
      },
      "execution_count": 15,
      "outputs": [
        {
          "output_type": "stream",
          "name": "stdout",
          "text": [
            "30\n",
            "200\n"
          ]
        }
      ]
    },
    {
      "cell_type": "markdown",
      "source": [
        "#filter 함수\n",
        "- 특정 조건을 만족하는 요소만 남기고 필터링하여 결과를 얻는 함수"
      ],
      "metadata": {
        "id": "-nf7ifsR77N0"
      }
    },
    {
      "cell_type": "code",
      "source": [
        "li1 = [i + 1 for i in range(0, 20)]\n",
        "print(li1)\n",
        "\n",
        "print(filter(lambda n: n % 3 == 0, li1))\n",
        "print(list(filter(lambda n: n % 3 == 0, li1)))"
      ],
      "metadata": {
        "colab": {
          "base_uri": "https://localhost:8080/"
        },
        "id": "VOMIzcSd8ASC",
        "outputId": "f75c0e0b-5936-4fd6-9e3b-9b756dccaaf3"
      },
      "execution_count": 18,
      "outputs": [
        {
          "output_type": "stream",
          "name": "stdout",
          "text": [
            "[1, 2, 3, 4, 5, 6, 7, 8, 9, 10, 11, 12, 13, 14, 15, 16, 17, 18, 19, 20]\n",
            "<filter object at 0x7c8ee0b6fca0>\n",
            "[3, 6, 9, 12, 15, 18]\n"
          ]
        }
      ]
    },
    {
      "cell_type": "code",
      "source": [
        "# 1~50까지 list에 담고, 20~30까지 값을 filter로 걸러낸 후 list로 출력하기\n",
        "li2 = [i + 1 for i in range(0, 50)]\n",
        "# print(li2)\n",
        "\n",
        "print(list(filter(lambda n: n <= 30 and n >= 20, li2)))\n",
        "print(list(filter(lambda n: 20 <= n <= 30, li2)))"
      ],
      "metadata": {
        "colab": {
          "base_uri": "https://localhost:8080/"
        },
        "id": "s1WRIWSQ8VTf",
        "outputId": "a0b031ae-bbe2-40ab-8d35-76842315c48b"
      },
      "execution_count": 26,
      "outputs": [
        {
          "output_type": "stream",
          "name": "stdout",
          "text": [
            "[20, 21, 22, 23, 24, 25, 26, 27, 28, 29, 30]\n",
            "[20, 21, 22, 23, 24, 25, 26, 27, 28, 29, 30]\n"
          ]
        }
      ]
    },
    {
      "cell_type": "markdown",
      "source": [
        "# map()\n",
        "- 각 원소를 주어진 수식에 따라 변형하여 새로운 값을 반환하는 함수"
      ],
      "metadata": {
        "id": "aQdcoN-a90pC"
      }
    },
    {
      "cell_type": "code",
      "source": [
        "li3 = [i for i in range(1, 20)]\n",
        "print(li3)\n",
        "\n",
        "print(list(map(lambda n: n + 100, li3)))"
      ],
      "metadata": {
        "colab": {
          "base_uri": "https://localhost:8080/"
        },
        "id": "V_WZWqvS-CK4",
        "outputId": "6a697497-2612-4c97-a98e-83e720ed5369"
      },
      "execution_count": 28,
      "outputs": [
        {
          "output_type": "stream",
          "name": "stdout",
          "text": [
            "[1, 2, 3, 4, 5, 6, 7, 8, 9, 10, 11, 12, 13, 14, 15, 16, 17, 18, 19]\n",
            "[101, 102, 103, 104, 105, 106, 107, 108, 109, 110, 111, 112, 113, 114, 115, 116, 117, 118, 119]\n"
          ]
        }
      ]
    },
    {
      "cell_type": "code",
      "source": [
        "# 1~50까지 리스트에 담고, 홀수만 필터링 한 후\n",
        "# 그 결과에 모두 5를 더해서 리스트로 출력\n",
        "# filter(), map()\n",
        "\n",
        "li4 = [i + 1 for i in range(0, 50)]\n",
        "\n",
        "# print(list(map(lambda n: n + 5, filter(lambda n: n % 2 == 1, li4))))\n",
        "\n",
        "print(list(map(lambda n : n + 5, list(filter(lambda n: n % 2 == 1, li4)))))"
      ],
      "metadata": {
        "colab": {
          "base_uri": "https://localhost:8080/"
        },
        "id": "wIuxiOOU_0Pe",
        "outputId": "8eb2fadc-43d1-402a-c7fb-edef57fb5e27"
      },
      "execution_count": 34,
      "outputs": [
        {
          "output_type": "stream",
          "name": "stdout",
          "text": [
            "[6, 8, 10, 12, 14, 16, 18, 20, 22, 24, 26, 28, 30, 32, 34, 36, 38, 40, 42, 44, 46, 48, 50, 52, 54]\n"
          ]
        }
      ]
    }
  ]
}